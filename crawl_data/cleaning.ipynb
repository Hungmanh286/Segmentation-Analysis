{
  "cells": [
    {
      "cell_type": "markdown",
      "source": [
        "### Khai báo thư viện"
      ],
      "metadata": {
        "id": "gDXqTdzqBAQ4"
      }
    },
    {
      "cell_type": "code",
      "source": [
        "!pip install emoji\n",
        "!pip install pyvi"
      ],
      "metadata": {
        "colab": {
          "base_uri": "https://localhost:8080/"
        },
        "id": "wNjmJi4a-YAT",
        "outputId": "deef76ed-0849-4da9-83b7-02cb536eb624"
      },
      "execution_count": 1,
      "outputs": [
        {
          "output_type": "stream",
          "name": "stdout",
          "text": [
            "Collecting emoji\n",
            "  Downloading emoji-2.14.0-py3-none-any.whl.metadata (5.7 kB)\n",
            "Downloading emoji-2.14.0-py3-none-any.whl (586 kB)\n",
            "\u001b[2K   \u001b[90m━━━━━━━━━━━━━━━━━━━━━━━━━━━━━━━━━━━━━━━━\u001b[0m \u001b[32m586.9/586.9 kB\u001b[0m \u001b[31m8.0 MB/s\u001b[0m eta \u001b[36m0:00:00\u001b[0m\n",
            "\u001b[?25hInstalling collected packages: emoji\n",
            "Successfully installed emoji-2.14.0\n",
            "Collecting pyvi\n",
            "  Downloading pyvi-0.1.1-py2.py3-none-any.whl.metadata (2.5 kB)\n",
            "Requirement already satisfied: scikit-learn in /usr/local/lib/python3.10/dist-packages (from pyvi) (1.5.2)\n",
            "Collecting sklearn-crfsuite (from pyvi)\n",
            "  Downloading sklearn_crfsuite-0.5.0-py2.py3-none-any.whl.metadata (4.9 kB)\n",
            "Requirement already satisfied: numpy>=1.19.5 in /usr/local/lib/python3.10/dist-packages (from scikit-learn->pyvi) (1.26.4)\n",
            "Requirement already satisfied: scipy>=1.6.0 in /usr/local/lib/python3.10/dist-packages (from scikit-learn->pyvi) (1.13.1)\n",
            "Requirement already satisfied: joblib>=1.2.0 in /usr/local/lib/python3.10/dist-packages (from scikit-learn->pyvi) (1.4.2)\n",
            "Requirement already satisfied: threadpoolctl>=3.1.0 in /usr/local/lib/python3.10/dist-packages (from scikit-learn->pyvi) (3.5.0)\n",
            "Collecting python-crfsuite>=0.9.7 (from sklearn-crfsuite->pyvi)\n",
            "  Downloading python_crfsuite-0.9.11-cp310-cp310-manylinux_2_17_x86_64.manylinux2014_x86_64.whl.metadata (4.3 kB)\n",
            "Requirement already satisfied: tabulate>=0.4.2 in /usr/local/lib/python3.10/dist-packages (from sklearn-crfsuite->pyvi) (0.9.0)\n",
            "Requirement already satisfied: tqdm>=2.0 in /usr/local/lib/python3.10/dist-packages (from sklearn-crfsuite->pyvi) (4.66.6)\n",
            "Downloading pyvi-0.1.1-py2.py3-none-any.whl (8.5 MB)\n",
            "\u001b[2K   \u001b[90m━━━━━━━━━━━━━━━━━━━━━━━━━━━━━━━━━━━━━━━━\u001b[0m \u001b[32m8.5/8.5 MB\u001b[0m \u001b[31m46.1 MB/s\u001b[0m eta \u001b[36m0:00:00\u001b[0m\n",
            "\u001b[?25hDownloading sklearn_crfsuite-0.5.0-py2.py3-none-any.whl (10 kB)\n",
            "Downloading python_crfsuite-0.9.11-cp310-cp310-manylinux_2_17_x86_64.manylinux2014_x86_64.whl (1.2 MB)\n",
            "\u001b[2K   \u001b[90m━━━━━━━━━━━━━━━━━━━━━━━━━━━━━━━━━━━━━━━━\u001b[0m \u001b[32m1.2/1.2 MB\u001b[0m \u001b[31m49.3 MB/s\u001b[0m eta \u001b[36m0:00:00\u001b[0m\n",
            "\u001b[?25hInstalling collected packages: python-crfsuite, sklearn-crfsuite, pyvi\n",
            "Successfully installed python-crfsuite-0.9.11 pyvi-0.1.1 sklearn-crfsuite-0.5.0\n"
          ]
        }
      ]
    },
    {
      "cell_type": "code",
      "execution_count": 2,
      "metadata": {
        "id": "F6ZY0Ofo_8By"
      },
      "outputs": [],
      "source": [
        "import pandas as pd\n",
        "import emoji\n",
        "import unicodedata\n",
        "import regex as re\n",
        "from pyvi import ViTokenizer, ViPosTagger"
      ]
    },
    {
      "cell_type": "markdown",
      "source": [
        "### Kết nối với gg drive"
      ],
      "metadata": {
        "id": "c5U5d3ruBFPO"
      }
    },
    {
      "cell_type": "code",
      "source": [
        "from google.colab import drive\n",
        "drive.mount('/content/drive')"
      ],
      "metadata": {
        "colab": {
          "base_uri": "https://localhost:8080/"
        },
        "id": "pJ9haV_2ARBP",
        "outputId": "adb39fba-871a-449e-907e-b14e9895a1f2"
      },
      "execution_count": 3,
      "outputs": [
        {
          "output_type": "stream",
          "name": "stdout",
          "text": [
            "Mounted at /content/drive\n"
          ]
        }
      ]
    },
    {
      "cell_type": "markdown",
      "source": [
        "### Đọc file data.csv"
      ],
      "metadata": {
        "id": "PpMQ361pBMm3"
      }
    },
    {
      "cell_type": "code",
      "source": [
        "df = pd.read_csv('/content/drive/MyDrive/data.csv')"
      ],
      "metadata": {
        "id": "NHyTqzgXAZe0"
      },
      "execution_count": 4,
      "outputs": []
    },
    {
      "cell_type": "markdown",
      "source": [],
      "metadata": {
        "id": "ygpBkBMmBRy-"
      }
    },
    {
      "cell_type": "code",
      "source": [
        "df.head(10)"
      ],
      "metadata": {
        "id": "BDerMg7XA1Zn",
        "colab": {
          "base_uri": "https://localhost:8080/",
          "height": 363
        },
        "outputId": "ee6e0963-be55-4345-8d9f-191f05664c1b"
      },
      "execution_count": 5,
      "outputs": [
        {
          "output_type": "execute_result",
          "data": {
            "text/plain": [
              "  sentiment                                          vi_review\n",
              "0  positive  Một trong những người đánh giá khác đã đề cập ...\n",
              "1  positive  Một sản phẩm nhỏ tuyệt vời. <br /><br />Kỹ thu...\n",
              "2  positive  Tôi nghĩ đây là một cách tuyệt vời để dành thờ...\n",
              "3  negative  Về cơ bản, có một gia đình mà một cậu bé (Jake...\n",
              "4  positive  \"Love in the Time of Money\" của Petter Mattei ...\n",
              "5  positive  Có lẽ là bộ phim yêu thích nhất mọi thời đại c...\n",
              "6  positive  Tôi chắc chắn muốn thấy sự hồi sinh của loạt p...\n",
              "7  negative  Chương trình này là một ý tưởng tuyệt vời, mới...\n",
              "8  negative  Được khuyến khích bởi những bình luận tích cực...\n",
              "9  positive  Nếu bạn thích những tràng cười sảng khoái nguy..."
            ],
            "text/html": [
              "\n",
              "  <div id=\"df-5f2b3b89-4799-43ba-b0f6-3e0866f0bbe5\" class=\"colab-df-container\">\n",
              "    <div>\n",
              "<style scoped>\n",
              "    .dataframe tbody tr th:only-of-type {\n",
              "        vertical-align: middle;\n",
              "    }\n",
              "\n",
              "    .dataframe tbody tr th {\n",
              "        vertical-align: top;\n",
              "    }\n",
              "\n",
              "    .dataframe thead th {\n",
              "        text-align: right;\n",
              "    }\n",
              "</style>\n",
              "<table border=\"1\" class=\"dataframe\">\n",
              "  <thead>\n",
              "    <tr style=\"text-align: right;\">\n",
              "      <th></th>\n",
              "      <th>sentiment</th>\n",
              "      <th>vi_review</th>\n",
              "    </tr>\n",
              "  </thead>\n",
              "  <tbody>\n",
              "    <tr>\n",
              "      <th>0</th>\n",
              "      <td>positive</td>\n",
              "      <td>Một trong những người đánh giá khác đã đề cập ...</td>\n",
              "    </tr>\n",
              "    <tr>\n",
              "      <th>1</th>\n",
              "      <td>positive</td>\n",
              "      <td>Một sản phẩm nhỏ tuyệt vời. &lt;br /&gt;&lt;br /&gt;Kỹ thu...</td>\n",
              "    </tr>\n",
              "    <tr>\n",
              "      <th>2</th>\n",
              "      <td>positive</td>\n",
              "      <td>Tôi nghĩ đây là một cách tuyệt vời để dành thờ...</td>\n",
              "    </tr>\n",
              "    <tr>\n",
              "      <th>3</th>\n",
              "      <td>negative</td>\n",
              "      <td>Về cơ bản, có một gia đình mà một cậu bé (Jake...</td>\n",
              "    </tr>\n",
              "    <tr>\n",
              "      <th>4</th>\n",
              "      <td>positive</td>\n",
              "      <td>\"Love in the Time of Money\" của Petter Mattei ...</td>\n",
              "    </tr>\n",
              "    <tr>\n",
              "      <th>5</th>\n",
              "      <td>positive</td>\n",
              "      <td>Có lẽ là bộ phim yêu thích nhất mọi thời đại c...</td>\n",
              "    </tr>\n",
              "    <tr>\n",
              "      <th>6</th>\n",
              "      <td>positive</td>\n",
              "      <td>Tôi chắc chắn muốn thấy sự hồi sinh của loạt p...</td>\n",
              "    </tr>\n",
              "    <tr>\n",
              "      <th>7</th>\n",
              "      <td>negative</td>\n",
              "      <td>Chương trình này là một ý tưởng tuyệt vời, mới...</td>\n",
              "    </tr>\n",
              "    <tr>\n",
              "      <th>8</th>\n",
              "      <td>negative</td>\n",
              "      <td>Được khuyến khích bởi những bình luận tích cực...</td>\n",
              "    </tr>\n",
              "    <tr>\n",
              "      <th>9</th>\n",
              "      <td>positive</td>\n",
              "      <td>Nếu bạn thích những tràng cười sảng khoái nguy...</td>\n",
              "    </tr>\n",
              "  </tbody>\n",
              "</table>\n",
              "</div>\n",
              "    <div class=\"colab-df-buttons\">\n",
              "\n",
              "  <div class=\"colab-df-container\">\n",
              "    <button class=\"colab-df-convert\" onclick=\"convertToInteractive('df-5f2b3b89-4799-43ba-b0f6-3e0866f0bbe5')\"\n",
              "            title=\"Convert this dataframe to an interactive table.\"\n",
              "            style=\"display:none;\">\n",
              "\n",
              "  <svg xmlns=\"http://www.w3.org/2000/svg\" height=\"24px\" viewBox=\"0 -960 960 960\">\n",
              "    <path d=\"M120-120v-720h720v720H120Zm60-500h600v-160H180v160Zm220 220h160v-160H400v160Zm0 220h160v-160H400v160ZM180-400h160v-160H180v160Zm440 0h160v-160H620v160ZM180-180h160v-160H180v160Zm440 0h160v-160H620v160Z\"/>\n",
              "  </svg>\n",
              "    </button>\n",
              "\n",
              "  <style>\n",
              "    .colab-df-container {\n",
              "      display:flex;\n",
              "      gap: 12px;\n",
              "    }\n",
              "\n",
              "    .colab-df-convert {\n",
              "      background-color: #E8F0FE;\n",
              "      border: none;\n",
              "      border-radius: 50%;\n",
              "      cursor: pointer;\n",
              "      display: none;\n",
              "      fill: #1967D2;\n",
              "      height: 32px;\n",
              "      padding: 0 0 0 0;\n",
              "      width: 32px;\n",
              "    }\n",
              "\n",
              "    .colab-df-convert:hover {\n",
              "      background-color: #E2EBFA;\n",
              "      box-shadow: 0px 1px 2px rgba(60, 64, 67, 0.3), 0px 1px 3px 1px rgba(60, 64, 67, 0.15);\n",
              "      fill: #174EA6;\n",
              "    }\n",
              "\n",
              "    .colab-df-buttons div {\n",
              "      margin-bottom: 4px;\n",
              "    }\n",
              "\n",
              "    [theme=dark] .colab-df-convert {\n",
              "      background-color: #3B4455;\n",
              "      fill: #D2E3FC;\n",
              "    }\n",
              "\n",
              "    [theme=dark] .colab-df-convert:hover {\n",
              "      background-color: #434B5C;\n",
              "      box-shadow: 0px 1px 3px 1px rgba(0, 0, 0, 0.15);\n",
              "      filter: drop-shadow(0px 1px 2px rgba(0, 0, 0, 0.3));\n",
              "      fill: #FFFFFF;\n",
              "    }\n",
              "  </style>\n",
              "\n",
              "    <script>\n",
              "      const buttonEl =\n",
              "        document.querySelector('#df-5f2b3b89-4799-43ba-b0f6-3e0866f0bbe5 button.colab-df-convert');\n",
              "      buttonEl.style.display =\n",
              "        google.colab.kernel.accessAllowed ? 'block' : 'none';\n",
              "\n",
              "      async function convertToInteractive(key) {\n",
              "        const element = document.querySelector('#df-5f2b3b89-4799-43ba-b0f6-3e0866f0bbe5');\n",
              "        const dataTable =\n",
              "          await google.colab.kernel.invokeFunction('convertToInteractive',\n",
              "                                                    [key], {});\n",
              "        if (!dataTable) return;\n",
              "\n",
              "        const docLinkHtml = 'Like what you see? Visit the ' +\n",
              "          '<a target=\"_blank\" href=https://colab.research.google.com/notebooks/data_table.ipynb>data table notebook</a>'\n",
              "          + ' to learn more about interactive tables.';\n",
              "        element.innerHTML = '';\n",
              "        dataTable['output_type'] = 'display_data';\n",
              "        await google.colab.output.renderOutput(dataTable, element);\n",
              "        const docLink = document.createElement('div');\n",
              "        docLink.innerHTML = docLinkHtml;\n",
              "        element.appendChild(docLink);\n",
              "      }\n",
              "    </script>\n",
              "  </div>\n",
              "\n",
              "\n",
              "<div id=\"df-87b1ce24-4766-456f-94e8-12146aa69469\">\n",
              "  <button class=\"colab-df-quickchart\" onclick=\"quickchart('df-87b1ce24-4766-456f-94e8-12146aa69469')\"\n",
              "            title=\"Suggest charts\"\n",
              "            style=\"display:none;\">\n",
              "\n",
              "<svg xmlns=\"http://www.w3.org/2000/svg\" height=\"24px\"viewBox=\"0 0 24 24\"\n",
              "     width=\"24px\">\n",
              "    <g>\n",
              "        <path d=\"M19 3H5c-1.1 0-2 .9-2 2v14c0 1.1.9 2 2 2h14c1.1 0 2-.9 2-2V5c0-1.1-.9-2-2-2zM9 17H7v-7h2v7zm4 0h-2V7h2v10zm4 0h-2v-4h2v4z\"/>\n",
              "    </g>\n",
              "</svg>\n",
              "  </button>\n",
              "\n",
              "<style>\n",
              "  .colab-df-quickchart {\n",
              "      --bg-color: #E8F0FE;\n",
              "      --fill-color: #1967D2;\n",
              "      --hover-bg-color: #E2EBFA;\n",
              "      --hover-fill-color: #174EA6;\n",
              "      --disabled-fill-color: #AAA;\n",
              "      --disabled-bg-color: #DDD;\n",
              "  }\n",
              "\n",
              "  [theme=dark] .colab-df-quickchart {\n",
              "      --bg-color: #3B4455;\n",
              "      --fill-color: #D2E3FC;\n",
              "      --hover-bg-color: #434B5C;\n",
              "      --hover-fill-color: #FFFFFF;\n",
              "      --disabled-bg-color: #3B4455;\n",
              "      --disabled-fill-color: #666;\n",
              "  }\n",
              "\n",
              "  .colab-df-quickchart {\n",
              "    background-color: var(--bg-color);\n",
              "    border: none;\n",
              "    border-radius: 50%;\n",
              "    cursor: pointer;\n",
              "    display: none;\n",
              "    fill: var(--fill-color);\n",
              "    height: 32px;\n",
              "    padding: 0;\n",
              "    width: 32px;\n",
              "  }\n",
              "\n",
              "  .colab-df-quickchart:hover {\n",
              "    background-color: var(--hover-bg-color);\n",
              "    box-shadow: 0 1px 2px rgba(60, 64, 67, 0.3), 0 1px 3px 1px rgba(60, 64, 67, 0.15);\n",
              "    fill: var(--button-hover-fill-color);\n",
              "  }\n",
              "\n",
              "  .colab-df-quickchart-complete:disabled,\n",
              "  .colab-df-quickchart-complete:disabled:hover {\n",
              "    background-color: var(--disabled-bg-color);\n",
              "    fill: var(--disabled-fill-color);\n",
              "    box-shadow: none;\n",
              "  }\n",
              "\n",
              "  .colab-df-spinner {\n",
              "    border: 2px solid var(--fill-color);\n",
              "    border-color: transparent;\n",
              "    border-bottom-color: var(--fill-color);\n",
              "    animation:\n",
              "      spin 1s steps(1) infinite;\n",
              "  }\n",
              "\n",
              "  @keyframes spin {\n",
              "    0% {\n",
              "      border-color: transparent;\n",
              "      border-bottom-color: var(--fill-color);\n",
              "      border-left-color: var(--fill-color);\n",
              "    }\n",
              "    20% {\n",
              "      border-color: transparent;\n",
              "      border-left-color: var(--fill-color);\n",
              "      border-top-color: var(--fill-color);\n",
              "    }\n",
              "    30% {\n",
              "      border-color: transparent;\n",
              "      border-left-color: var(--fill-color);\n",
              "      border-top-color: var(--fill-color);\n",
              "      border-right-color: var(--fill-color);\n",
              "    }\n",
              "    40% {\n",
              "      border-color: transparent;\n",
              "      border-right-color: var(--fill-color);\n",
              "      border-top-color: var(--fill-color);\n",
              "    }\n",
              "    60% {\n",
              "      border-color: transparent;\n",
              "      border-right-color: var(--fill-color);\n",
              "    }\n",
              "    80% {\n",
              "      border-color: transparent;\n",
              "      border-right-color: var(--fill-color);\n",
              "      border-bottom-color: var(--fill-color);\n",
              "    }\n",
              "    90% {\n",
              "      border-color: transparent;\n",
              "      border-bottom-color: var(--fill-color);\n",
              "    }\n",
              "  }\n",
              "</style>\n",
              "\n",
              "  <script>\n",
              "    async function quickchart(key) {\n",
              "      const quickchartButtonEl =\n",
              "        document.querySelector('#' + key + ' button');\n",
              "      quickchartButtonEl.disabled = true;  // To prevent multiple clicks.\n",
              "      quickchartButtonEl.classList.add('colab-df-spinner');\n",
              "      try {\n",
              "        const charts = await google.colab.kernel.invokeFunction(\n",
              "            'suggestCharts', [key], {});\n",
              "      } catch (error) {\n",
              "        console.error('Error during call to suggestCharts:', error);\n",
              "      }\n",
              "      quickchartButtonEl.classList.remove('colab-df-spinner');\n",
              "      quickchartButtonEl.classList.add('colab-df-quickchart-complete');\n",
              "    }\n",
              "    (() => {\n",
              "      let quickchartButtonEl =\n",
              "        document.querySelector('#df-87b1ce24-4766-456f-94e8-12146aa69469 button');\n",
              "      quickchartButtonEl.style.display =\n",
              "        google.colab.kernel.accessAllowed ? 'block' : 'none';\n",
              "    })();\n",
              "  </script>\n",
              "</div>\n",
              "\n",
              "    </div>\n",
              "  </div>\n"
            ],
            "application/vnd.google.colaboratory.intrinsic+json": {
              "type": "dataframe",
              "variable_name": "df",
              "summary": "{\n  \"name\": \"df\",\n  \"rows\": 50000,\n  \"fields\": [\n    {\n      \"column\": \"sentiment\",\n      \"properties\": {\n        \"dtype\": \"category\",\n        \"num_unique_values\": 2,\n        \"samples\": [\n          \"negative\",\n          \"positive\"\n        ],\n        \"semantic_type\": \"\",\n        \"description\": \"\"\n      }\n    },\n    {\n      \"column\": \"vi_review\",\n      \"properties\": {\n        \"dtype\": \"string\",\n        \"num_unique_values\": 49594,\n        \"samples\": [\n          \"M\\u1ed9t c\\u1ed5 \\u0111i\\u1ec3n tuy\\u1ec7t \\u0111\\u1ed1i !! Ch\\u1ec9 \\u0111\\u1ea1o ho\\u00e0n h\\u1ea3o, di\\u1ec5n xu\\u1ea5t tuy\\u1ec7t v\\u1eddi. T\\u1eeb ng\\u1eef ng\\u1eafn g\\u1ecdn cho c\\u00f4ng vi\\u1ec7c tuy\\u1ec7t v\\u1eddi n\\u00e0y. B\\u1ed9 phim d\\u1ee9t kho\\u00e1t nh\\u1ea5t v\\u1ec1 C\\u1ea3nh s\\u00e1t Mumbai. B\\u1ed9 phim n\\u00e0y \\u0111\\u00e3 v\\u01b0\\u1ee3t qua th\\u1eed th\\u00e1ch c\\u1ee7a th\\u1eddi gian.<br /><br />Om Puri \\u0111\\u00e3 th\\u1ec3 hi\\u1ec7n xu\\u1ea5t s\\u1eafc, Smita Patil c\\u0169ng kh\\u00f4ng k\\u00e9m c\\u1ea1nh. T\\u1ea5t c\\u1ea3 c\\u00e1c di\\u1ec5n vi\\u00ean \\u0111\\u00e3 c\\u1ed1 g\\u1eafng h\\u1ebft s\\u1ee9c v\\u00e0 b\\u1ed9 phim khi\\u1ebfn b\\u1ea1n h\\u1ed3i h\\u1ed9p \\u1edf m\\u1ecdi th\\u1eddi \\u0111i\\u1ec3m. B\\u1ed9 phim n\\u00e0y l\\u00e0m lay \\u0111\\u1ed9ng to\\u00e0n b\\u1ed9 con ng\\u01b0\\u1eddi b\\u1ea1n v\\u00e0 bu\\u1ed9c b\\u1ea1n ph\\u1ea3i suy ngh\\u0129 l\\u1ea1i v\\u1ec1 nhi\\u1ec1u v\\u1ea5n \\u0111\\u1ec1 m\\u00e0 x\\u00e3 h\\u1ed9i ch\\u00fang ta \\u0111ang ph\\u1ea3i \\u0111\\u1ed1i m\\u1eb7t.<br /><br />\\u0110\\u00e2y l\\u00e0 c\\u00e2u chuy\\u1ec7n v\\u1ec1 m\\u1ed9t c\\u1ea3nh s\\u00e1t (Om Puri ) b\\u1eaft \\u0111\\u1ea7u s\\u1ef1 nghi\\u1ec7p c\\u1ee7a m\\u00ecnh nh\\u01b0 m\\u1ed9t ng\\u01b0\\u1eddi l\\u01b0\\u01a1ng thi\\u1ec7n nh\\u01b0ng cu\\u1ed1i c\\u00f9ng tho\\u00e1i h\\u00f3a th\\u00e0nh m\\u1ed9t k\\u1ebb gi\\u1ebft ng\\u01b0\\u1eddi. N\\u1ed7 l\\u1ef1c \\u0111\\u1ea7u ti\\u00ean \\u1edf Bollywood nh\\u1eb1m v\\u00e0o h\\u1eadu tr\\u01b0\\u1eddng v\\u00e0 ph\\u01a1i b\\u00e0y s\\u1ef1 th\\u1eadt \\u0111au l\\u00f2ng v\\u1ec1 c\\u1ea3nh s\\u00e1t Mumbai. Xin ch\\u00fac m\\u1eebng Nihalani!! <br /><br />Sau b\\u1ed9 phim n\\u00e0y, h\\u00e0ng lo\\u1ea1t phim Bollywood \\u0111\\u00e3 \\u0111\\u01b0\\u1ee3c ph\\u00e1t h\\u00e0nh ph\\u01a1i b\\u00e0y m\\u1ed1i quan h\\u1ec7 t\\u1ed9i ph\\u1ea1m-ch\\u00ednh tr\\u1ecb gia-c\\u1ea3nh s\\u00e1t. V\\u00ec v\\u1eady, b\\u1ed9 phim n\\u00e0y th\\u1ef1c s\\u1ef1 l\\u00e0 m\\u1ed9t ng\\u01b0\\u1eddi thi\\u1ebft l\\u1eadp xu h\\u01b0\\u1edbng. Xu h\\u01b0\\u1edbng n\\u00e0y \\u0111\\u00e3 th\\u1ed1ng tr\\u1ecb n\\u1ec1n \\u0111i\\u1ec7n \\u1ea3nh Hindi trong h\\u01a1n m\\u1ed9t th\\u1eadp k\\u1ef7. <br /><br />B\\u1ed9 phim n\\u00e0y \\u0111\\u1ea1t doanh thu ph\\u00f2ng v\\u00e9 v\\u1eeba ph\\u1ea3i. <br /><br />M\\u1ed9t b\\u1ed9 phim kh\\u00f4ng th\\u1ec3 b\\u1ecf qua \\u0111\\u1ed1i v\\u1edbi nh\\u1eefng ng\\u01b0\\u1eddi h\\u00e2m m\\u1ed9 \\u0111i\\u1ec7n \\u1ea3nh s\\u00e0nh \\u0111i\\u1ec7u.\",\n          \"'Northfork' l\\u00e0 \\u0111i\\u1ec1u kh\\u00f4ng \\u1ed5n v\\u1edbi phim \\u0111\\u1ed9c l\\u1eadp. \\u0110\\u1ed1i v\\u1edbi t\\u1ea5t c\\u1ea3 nh\\u1eefng l\\u1eddi b\\u00ecnh lu\\u1eadn c\\u1ee9ng r\\u1eafn c\\u1ee7a h\\u1ecd v\\u00e0 c\\u00e1c h\\u00e3ng phim t\\u1ea5n c\\u00f4ng c\\u00e1c ch\\u1ee7 \\u0111\\u1ec1 l\\u1edbn s\\u1ebd kh\\u00f4ng l\\u00e0m \\u0111\\u01b0\\u1ee3c, \\u0111\\u00e2y l\\u00e0 s\\u1ef1 hy sinh m\\u00e0 ch\\u00fang t\\u00f4i th\\u1ef1c hi\\u1ec7n. Trong g\\u1ea7n hai ti\\u1ebfng \\u0111\\u1ed3ng h\\u1ed3, t\\u00f4i ph\\u1ea3i ch\\u1ecbu s\\u1ef1 tra t\\u1ea5n v\\u00e0 \\u0111au \\u0111\\u1edbn c\\u1ee7a m\\u1ed9t b\\u1ed9 phim b\\u1eaft \\u0111\\u1ea7u b\\u1eb1ng vi\\u1ec7c lang thang nh\\u01b0 m\\u1ed9t ng\\u01b0\\u1eddi m\\u00f9 \\u1edf m\\u1ed9t n\\u01a1i m\\u1edbi v\\u00e0 k\\u1ebft th\\u00fac m\\u00e0 kh\\u00f4ng t\\u00ecm th\\u1ea5y b\\u1ea5t k\\u1ef3 v\\u00f9ng \\u0111\\u1ea5t m\\u1edbi n\\u00e0o v\\u00e0 ch\\u1ebft m\\u1ed9t c\\u00e1ch may m\\u1eafn.<br /><br />C\\u00f3 nh\\u1eefng c\\u00e2u chuy\\u1ec7n song song chi ti\\u1ebft \\u0111\\u00f3 l\\u00e0 m\\u1ed9t th\\u1ecb tr\\u1ea5n \\u0111ang h\\u1ea5p h\\u1ed1i v\\u00e0 m\\u1ed9t c\\u1eadu b\\u00e9 \\u0111ang h\\u1ea5p h\\u1ed1i. Hai ng\\u01b0\\u1eddi \\u0111\\u00e0n \\u00f4ng m\\u1eb7c \\u0111\\u1ed3 \\u0111en (m\\u1ed9t trong s\\u1ed1 h\\u1ecd l\\u00e0 James Woods) ph\\u1ea3i \\u00e9p bu\\u1ed9c nh\\u1eefng c\\u01b0 d\\u00e2n c\\u00f2n l\\u1ea1i c\\u1ee7a Northfork r\\u1eddi \\u0111i tr\\u01b0\\u1edbc khi m\\u1ed9t con \\u0111\\u1eadp m\\u1edf ra v\\u00e0 l\\u00e0m ng\\u1eadp th\\u1ecb tr\\u1ea5n. C\\u00e2u chuy\\u1ec7n kh\\u00e1c k\\u1ec3 v\\u1ec1 m\\u1ed9t c\\u1eadu b\\u00e9 tr\\u1edf v\\u1ec1 v\\u1edbi v\\u1ecb linh m\\u1ee5c (Nick Nolte) \\u0111\\u00e3 trao c\\u1eadu cho cha m\\u1eb9. Anh \\u1ea5y s\\u1eafp ch\\u1ebft v\\u00e0 t\\u00f4i \\u0111o\\u00e1n l\\u00e0 \\u0111\\u00e3 \\u0111\\u01b0\\u1ee3c c\\u00e1c thi\\u00ean th\\u1ea7n \\u0111\\u1ebfn th\\u0103m. Trong s\\u1ed1 \\u0111\\u00f3 c\\u00f3 Anthony Edwards v\\u1edbi c\\u1eb7p k\\u00ednh k\\u1ef3 qu\\u00e1i v\\u00e0 Daryl Hannah trong b\\u1ed9 trang ph\\u1ee5c k\\u1ef3 qu\\u00e1i khi\\u1ebfn t\\u00f4i nh\\u1edb \\u0111\\u1ebfn chi\\u1ebfc \\u00e1o c\\u01b0\\u1edbp bi\\u1ec3n t\\u1eeb Seinfeld.<br /><br />M\\u1eb7c d\\u00f9 \\u0111\\u00e2y l\\u00e0 \\\"c\\u1ed1t truy\\u1ec7n\\\", nh\\u01b0ng \\u0111\\u00f3 kh\\u00f4ng ph\\u1ea3i l\\u00e0 n\\u1ed9i dung c\\u1ee7a b\\u1ed9 phim. B\\u1ed9 phim kh\\u00f4ng n\\u00f3i v\\u1ec1 \\u0111i\\u1ec1u g\\u00ec. N\\u00f3 kh\\u00f4ng l\\u00e0m g\\u00ec, kh\\u00f4ng n\\u00f3i g\\u00ec, kh\\u00f4ng \\u0111i \\u0111\\u1ebfn \\u0111\\u00e2u v\\u00e0 kh\\u00f4ng c\\u00f3 g\\u00ec th\\u00fa v\\u1ecb \\u0111\\u1ec3 th\\u1ec3 hi\\u1ec7n. C\\u00f3 l\\u1ebd theo thi\\u1ebft k\\u1ebf, nhi\\u1ec1u kh\\u1ea3 n\\u0103ng l\\u00e0 h\\u1eadu qu\\u1ea3 c\\u1ee7a vi\\u1ec7c mu\\u1ed1n tr\\u1edf th\\u00e0nh David Lynch t\\u1ef1 ph\\u1ee5, si\\u00eau th\\u1ef1c - ch\\u00fang t\\u00f4i l\\u00e0 m\\u1ed9t b\\u1ed9 phim ngh\\u1ec7 thu\\u1eadt quan tr\\u1ecdng m\\u00e0 b\\u1ea1n kh\\u00f4ng th\\u1ec3 th\\u1ea5y - phong c\\u00e1ch ch\\u1ec9 \\u0111\\u1ea1o. To\\u00e0n b\\u1ed9 b\\u1ed9 phim \\u0111\\u01b0\\u1ee3c l\\u1ecdc qua m\\u1ed9t ph\\u00f4ng n\\u1ec1n x\\u00e1m x\\u1ecbt, t\\u00f4i cho r\\u1eb1ng ph\\u00f9 h\\u1ee3p v\\u1edbi m\\u1ed9t b\\u1ed9 phim v\\u1ec1 c\\u00e1i ch\\u1ebft. Thay v\\u00e0o \\u0111\\u00f3, n\\u00f3 ch\\u1ec9 khi\\u1ebfn b\\u1ed9 phim tr\\u1edf n\\u00ean kh\\u00f3 xem h\\u01a1n nhi\\u1ec1u.<br /><br />N\\u1ebfu b\\u1ea1n mu\\u1ed1n xem m\\u1ed9t b\\u1ed9 phim v\\u1ec1 nh\\u1eefng ng\\u01b0\\u1eddi \\u0111\\u00e0n \\u00f4ng m\\u1eb7c \\u0111\\u1ed3 \\u0111en, h\\u00e3y xem m\\u1ed9t trong hai phim 'Men in Black', kh\\u00f4ng qu\\u00e1 \\u1ea5n t\\u01b0\\u1ee3ng nh\\u01b0ng c\\u00f3 th\\u1ec3 so s\\u00e1nh v\\u1edbi 'Northfork' ' h\\u1ecd \\u0111\\u01b0\\u1ee3c n\\u00e2ng l\\u00ean tr\\u1ea1ng th\\u00e1i 'Citizen Kane'. N\\u1ebfu b\\u1ea1n mu\\u1ed1n xem m\\u1ed9t b\\u1ed9 phim v\\u1ec1 c\\u1eadu b\\u00e9 s\\u1eafp ch\\u1ebft, h\\u00e3y xem 'Lorenzo's Oil.' N\\u1ebfu b\\u1ea1n mu\\u1ed1n xem m\\u1ed9t b\\u1ed9 phim c\\u00f3 s\\u1ef1 t\\u00e0n ph\\u00e1 c\\u1ee7a m\\u1ed9t th\\u1ecb tr\\u1ea5n d\\u01b0\\u1edbi n\\u01b0\\u1edbc, h\\u00e3y xem 'O Brother, Where Art Thou?' N\\u1ebfu b\\u1ea1n mu\\u1ed1n xem m\\u1ed9t b\\u1ed9 phim hay h\\u01a1n 'Northfork', th\\u00ec c\\u00f3 h\\u00e0ng tr\\u0103m b\\u1ed9 phim. N\\u1ebfu b\\u1ea1n mu\\u1ed1n xem m\\u1ed9t b\\u1ed9 phim t\\u1ec7 h\\u01a1n, ch\\u1ec9 c\\u00f3 m\\u1ed9t s\\u1ed1 \\u00edt. 0* tr\\u00ean ****\"\n        ],\n        \"semantic_type\": \"\",\n        \"description\": \"\"\n      }\n    }\n  ]\n}"
            }
          },
          "metadata": {},
          "execution_count": 5
        }
      ]
    },
    {
      "cell_type": "code",
      "source": [
        "df.shape"
      ],
      "metadata": {
        "colab": {
          "base_uri": "https://localhost:8080/"
        },
        "id": "qiF7eoZYBesn",
        "outputId": "355ab90e-8c6f-43db-8aeb-46b431ee77a2"
      },
      "execution_count": 6,
      "outputs": [
        {
          "output_type": "execute_result",
          "data": {
            "text/plain": [
              "(50000, 2)"
            ]
          },
          "metadata": {},
          "execution_count": 6
        }
      ]
    },
    {
      "cell_type": "code",
      "source": [
        "df.info()"
      ],
      "metadata": {
        "colab": {
          "base_uri": "https://localhost:8080/"
        },
        "id": "Da8ewXPwBlf_",
        "outputId": "a557d7a0-a219-450e-e3c7-354eb30c4e14"
      },
      "execution_count": 7,
      "outputs": [
        {
          "output_type": "stream",
          "name": "stdout",
          "text": [
            "<class 'pandas.core.frame.DataFrame'>\n",
            "RangeIndex: 50000 entries, 0 to 49999\n",
            "Data columns (total 2 columns):\n",
            " #   Column     Non-Null Count  Dtype \n",
            "---  ------     --------------  ----- \n",
            " 0   sentiment  50000 non-null  object\n",
            " 1   vi_review  50000 non-null  object\n",
            "dtypes: object(2)\n",
            "memory usage: 781.4+ KB\n"
          ]
        }
      ]
    },
    {
      "cell_type": "markdown",
      "source": [
        "### Làm sạch data"
      ],
      "metadata": {
        "id": "Wa53PDyrBT8e"
      }
    },
    {
      "cell_type": "code",
      "source": [
        "bang_nguyen_am= [['a', 'à', 'á', 'ả', 'ã', 'ạ', 'a'],\n",
        "                  ['ă', 'ằ', 'ắ', 'ẳ', 'ẵ', 'ặ', 'aw'],\n",
        "                  ['â', 'ầ', 'ấ', 'ẩ', 'ẫ', 'ậ', 'aa'],\n",
        "                  ['e', 'è', 'é', 'ẻ', 'ẽ', 'ẹ', 'e'],\n",
        "                  ['ê', 'ề', 'ế', 'ể', 'ễ', 'ệ', 'ee'],\n",
        "                  ['i', 'ì', 'í', 'ỉ', 'ĩ', 'ị', 'i'],\n",
        "                  ['o', 'ò', 'ó', 'ỏ', 'õ', 'ọ', 'o'],\n",
        "                  ['ô', 'ồ', 'ố', 'ổ', 'ỗ', 'ộ', 'oo'],\n",
        "                  ['ơ', 'ờ', 'ớ', 'ở', 'ỡ', 'ợ', 'ow'],\n",
        "                  ['u', 'ù', 'ú', 'ủ', 'ũ', 'ụ', 'u'],\n",
        "                  ['ư', 'ừ', 'ứ', 'ử', 'ữ', 'ự', 'uw'],\n",
        "                  ['y', 'ỳ', 'ý', 'ỷ', 'ỹ', 'ỵ', 'y']]\n",
        "\n",
        "bang_ky_tu_dau = ['', 'f', 's', 'r', 'x', 'j']\n",
        "nguyen_am_to_ids = {}\n",
        "\n",
        "for i in range(len(bang_nguyen_am)):\n",
        "    for j in range(len(bang_nguyen_am[i]) - 1):\n",
        "        nguyen_am_to_ids[bang_nguyen_am[i][j]] = (i, j)"
      ],
      "metadata": {
        "id": "fE47SyWznfMG"
      },
      "execution_count": 8,
      "outputs": []
    },
    {
      "cell_type": "markdown",
      "source": [
        "Đổi thành chữ thường hết"
      ],
      "metadata": {
        "id": "TIhGFad-EyTR"
      }
    },
    {
      "cell_type": "code",
      "source": [
        "def chuyen_chu_thuong(text):\n",
        "\treturn text.lower()"
      ],
      "metadata": {
        "id": "_wFStLLIEqPp"
      },
      "execution_count": 9,
      "outputs": []
    },
    {
      "cell_type": "markdown",
      "source": [
        "Chuẩn hóa unicode. Có 2 loại unicode : unicode tổ hơp và unicode dựng sẵn, điêu này dẫn tới việc 2 từ giống nhau sẽ bị coi là khác nhau. Chuẩn hóa tất cả về 1 loại là unicode dựng sẵn"
      ],
      "metadata": {
        "id": "tc31eaI7mPxw"
      }
    },
    {
      "cell_type": "code",
      "source": [
        "def chuan_hoa_unicode(text):\n",
        "    \"\"\"\n",
        "    Chuẩn hóa Unicode an toàn, xử lý các giá trị NaN và float\n",
        "\n",
        "    Parameters:\n",
        "    text: Giá trị cần chuẩn hóa\n",
        "\n",
        "    Returns:\n",
        "    Giá trị đã được chuẩn hóa\n",
        "    \"\"\"\n",
        "    # Kiểm tra nếu là NaN hoặc float\n",
        "    if pd.isna(text):\n",
        "        return text\n",
        "\n",
        "    # Chuyển đổi sang chuỗi\n",
        "    text = str(text)\n",
        "\n",
        "    # Chuẩn hóa Unicode\n",
        "    text = unicodedata.normalize('NFC', text)\n",
        "\n",
        "    return text"
      ],
      "metadata": {
        "id": "YB9MdGnTmMTS"
      },
      "execution_count": 10,
      "outputs": []
    },
    {
      "cell_type": "markdown",
      "source": [
        "Có 2 kiểu gõ dấu ở Tiếng Việt, ví dụ như là : òa hoặc oà (ta gọi lần lượt là chuẩn 1 và 2). Mặc dù kiểu gõ chữ sau ít phổ biến hơn tuy nhiên vẫn cần phải chuẩn hóa tránh việc một số văn bản vẫn sử dụng kiểu gõ dấu thứ 2."
      ],
      "metadata": {
        "id": "Rj3Izk7cmhS1"
      }
    },
    {
      "cell_type": "code",
      "source": [
        "\"\"\"\n",
        "\tHàm này xử lý chuẩn hóa từng từ một, sau khi chuẩn hóa từng từ thì ta sẽ đi chuân hóa từng câu sau\n",
        "\"\"\"\n",
        "def chuan_hoa_dau_tu_tieng_viet(word):\n",
        "    if not is_valid_vietnam_word(word):\n",
        "        return word\n",
        "\n",
        "    chars = list(word)\n",
        "    dau_cau = 0\n",
        "    nguyen_am_index = []\n",
        "    qu_or_gi = False\n",
        "    for index, char in enumerate(chars):\n",
        "        x, y = nguyen_am_to_ids.get(char, (-1, -1))\n",
        "        if x == -1:\n",
        "            continue\n",
        "        elif x == 9:  # check qu\n",
        "            if index != 0 and chars[index - 1] == 'q':\n",
        "                chars[index] = 'u'\n",
        "                qu_or_gi = True\n",
        "        elif x == 5:  # check gi\n",
        "            if index != 0 and chars[index - 1] == 'g':\n",
        "                chars[index] = 'i'\n",
        "                qu_or_gi = True\n",
        "        if y != 0:\n",
        "            dau_cau = y\n",
        "            chars[index] = bang_nguyen_am[x][0]\n",
        "        if not qu_or_gi or index != 1:\n",
        "            nguyen_am_index.append(index)\n",
        "    if len(nguyen_am_index) < 2:\n",
        "        if qu_or_gi:\n",
        "            if len(chars) == 2:\n",
        "                x, y = nguyen_am_to_ids.get(chars[1])\n",
        "                chars[1] = bang_nguyen_am[x][dau_cau]\n",
        "            else:\n",
        "                x, y = nguyen_am_to_ids.get(chars[2], (-1, -1))\n",
        "                if x != -1:\n",
        "                    chars[2] = bang_nguyen_am[x][dau_cau]\n",
        "                else:\n",
        "                    chars[1] = bang_nguyen_am[5][dau_cau] if chars[1] == 'i' else bang_nguyen_am[9][dau_cau]\n",
        "            return ''.join(chars)\n",
        "        return word\n",
        "\n",
        "    for index in nguyen_am_index:\n",
        "        x, y = nguyen_am_to_ids[chars[index]]\n",
        "        if x == 4 or x == 8:  # ê, ơ\n",
        "            chars[index] = bang_nguyen_am[x][dau_cau]\n",
        "            # for index2 in nguyen_am_index:\n",
        "            #     if index2 != index:\n",
        "            #         x, y = nguyen_am_to_ids[chars[index]]\n",
        "            #         chars[index2] = bang_nguyen_am[x][0]\n",
        "            return ''.join(chars)\n",
        "\n",
        "    if len(nguyen_am_index) == 2:\n",
        "        if nguyen_am_index[-1] == len(chars) - 1:\n",
        "            x, y = nguyen_am_to_ids[chars[nguyen_am_index[0]]]\n",
        "            chars[nguyen_am_index[0]] = bang_nguyen_am[x][dau_cau]\n",
        "            # x, y = nguyen_am_to_ids[chars[nguyen_am_index[1]]]\n",
        "            # chars[nguyen_am_index[1]] = bang_nguyen_am[x][0]\n",
        "        else:\n",
        "            # x, y = nguyen_am_to_ids[chars[nguyen_am_index[0]]]\n",
        "            # chars[nguyen_am_index[0]] = bang_nguyen_am[x][0]\n",
        "            x, y = nguyen_am_to_ids[chars[nguyen_am_index[1]]]\n",
        "            chars[nguyen_am_index[1]] = bang_nguyen_am[x][dau_cau]\n",
        "    else:\n",
        "        # x, y = nguyen_am_to_ids[chars[nguyen_am_index[0]]]\n",
        "        # chars[nguyen_am_index[0]] = bang_nguyen_am[x][0]\n",
        "        x, y = nguyen_am_to_ids[chars[nguyen_am_index[1]]]\n",
        "        chars[nguyen_am_index[1]] = bang_nguyen_am[x][dau_cau]\n",
        "        # x, y = nguyen_am_to_ids[chars[nguyen_am_index[2]]]\n",
        "        # chars[nguyen_am_index[2]] = bang_nguyen_am[x][0]\n",
        "    return ''.join(chars)"
      ],
      "metadata": {
        "id": "L4p-j0b4mrJa"
      },
      "execution_count": 11,
      "outputs": []
    },
    {
      "cell_type": "code",
      "source": [
        "def is_valid_vietnam_word(word):\n",
        "    chars = list(word)\n",
        "    nguyen_am_index = -1\n",
        "    for index, char in enumerate(chars):\n",
        "        x, y = nguyen_am_to_ids.get(char, (-1, -1))\n",
        "        if x != -1:\n",
        "            if nguyen_am_index == -1:\n",
        "                nguyen_am_index = index\n",
        "            else:\n",
        "                if index - nguyen_am_index != 1:\n",
        "                    return False\n",
        "                nguyen_am_index = index\n",
        "    return True"
      ],
      "metadata": {
        "id": "q60sGpx7mwHB"
      },
      "execution_count": 12,
      "outputs": []
    },
    {
      "cell_type": "code",
      "source": [
        "def chuan_hoa_dau_cau_tieng_viet(sentence):\n",
        "    \"\"\"\n",
        "        Chuyển câu tiếng việt về chuẩn gõ dấu kiểu cũ.\n",
        "        :param sentence:\n",
        "        :return:\n",
        "        \"\"\"\n",
        "    sentence = str(sentence)\n",
        "    words = sentence.split()\n",
        "    sentence = sentence.lower()\n",
        "    words = sentence.split()\n",
        "    for index, word in enumerate(words):\n",
        "        cw = re.sub(r'(^\\\\p{P}*)([p{L}.]*\\\\p{L}+)(\\\\p{P}*$)', r'\\1/\\2/\\3', word).split('/')\n",
        "        # print(cw)\n",
        "        if len(cw) == 3:\n",
        "            cw[1] = chuan_hoa_dau_tu_tieng_viet(cw[1])\n",
        "        words[index] = ''.join(cw)\n",
        "    return ' '.join(words)"
      ],
      "metadata": {
        "id": "gWtGw9Nlm7LG"
      },
      "execution_count": 13,
      "outputs": []
    },
    {
      "cell_type": "markdown",
      "source": [
        "Tách từ tiếng việt, từ tiếng việt không giống như tiếng anh, tách từ tiếng anh ta chỉ cần tách bằng khoảng trắng\n",
        "Tuy nhiên từ tiếng Việt có cả từ đơn lẫn từ ghép nên tách từ tiêng Việt sẽ phúc tạp hơn\n",
        "Project sử dung thu viện pyvi (xem mã nguồn tại : https://github.com/trungtv/pyvi) để phục vụ bài toán con tách từ Tiếng Việt"
      ],
      "metadata": {
        "id": "GIXFljZQnBUS"
      }
    },
    {
      "cell_type": "code",
      "source": [
        "def tach_tu_tieng_viet(text):\n",
        "\ttext = ViTokenizer.tokenize(text)\n",
        "\treturn text"
      ],
      "metadata": {
        "id": "PwM6t_M-nA7c"
      },
      "execution_count": 14,
      "outputs": []
    },
    {
      "cell_type": "markdown",
      "source": [
        "Xóa đi các dấu cách thừa, các từ không cần thiết cho việc phân loại vẳn bản"
      ],
      "metadata": {
        "id": "EDKvJLRLnG8b"
      }
    },
    {
      "cell_type": "code",
      "source": [
        "def chuan_hoa_cau(text):\n",
        "\ttext = re.sub(r'[^\\s\\wáàảãạăắằẳẵặâấầẩẫậéèẻẽẹêếềểễệóòỏõọôốồổỗộơớờởỡợíìỉĩịúùủũụưứừửữựýỳỷỹỵđ_.,]',' ',text)\n",
        "\ttext = re.sub(r'\\s+', ' ', text).strip()\n",
        "\treturn text"
      ],
      "metadata": {
        "id": "pfoXubfhnKAl"
      },
      "execution_count": 15,
      "outputs": []
    },
    {
      "cell_type": "markdown",
      "source": [
        "Loại bỏ link"
      ],
      "metadata": {
        "id": "xsJVhVCCsAgF"
      }
    },
    {
      "cell_type": "code",
      "source": [
        "def clean_link(text):\n",
        "  if pd.isna(text):\n",
        "      return text\n",
        "  # Loại bỏ các link http, https, www\n",
        "  text = re.sub(r'http[s]?://\\S+|www\\.\\S+', '', str(text))\n",
        "  # Loại bỏ các link không có giao thức\n",
        "  text = re.sub(r'\\b\\w+\\.\\w+/\\S+', '', text)\n",
        "  return text.strip()"
      ],
      "metadata": {
        "id": "Kqlh19I0oZ4m"
      },
      "execution_count": 16,
      "outputs": []
    },
    {
      "cell_type": "markdown",
      "source": [
        "Loại bỏ số"
      ],
      "metadata": {
        "id": "RR-pCWsUspH_"
      }
    },
    {
      "cell_type": "code",
      "source": [
        "def clean_numbers(text):\n",
        "  if pd.isna(text):\n",
        "      return text\n",
        "\n",
        "  # Loại bỏ tất cả các chữ số\n",
        "  text = re.sub(r'\\d+', '', str(text))\n",
        "\n",
        "  # Loại bỏ khoảng trắng thừa\n",
        "  text = ' '.join(text.split())\n",
        "\n",
        "  return text.strip()"
      ],
      "metadata": {
        "id": "TEUONa1kr79b"
      },
      "execution_count": 17,
      "outputs": []
    },
    {
      "cell_type": "markdown",
      "source": [
        "Thêm khoảng cách cho dấu \".\" và dấu \",\""
      ],
      "metadata": {
        "id": "82HKLkadyQlv"
      }
    },
    {
      "cell_type": "code",
      "source": [
        "def xu_ly_dau_cau(text):\n",
        "        if pd.isna(text):\n",
        "            return text\n",
        "\n",
        "        # Chuyển sang chuỗi\n",
        "        text = str(text)\n",
        "\n",
        "        # Thêm khoảng cách hai bên dấu chấm và dấu phẩy\n",
        "        # Đảm bảo không thêm khoảng cách giữa số thập phân\n",
        "        text = re.sub(r'([.,])(?!\\d)', r' \\1 ', text)\n",
        "\n",
        "        # Loại bỏ dấu \" và dấu '\n",
        "        text = text.replace('\"', '')\n",
        "        text = text.replace(\"'\", '')\n",
        "\n",
        "        # Loại bỏ khoảng trắng thừa\n",
        "        text = re.sub(r'\\s+', ' ', text).strip()\n",
        "\n",
        "        return text.strip()"
      ],
      "metadata": {
        "id": "2_xadXKoyWMW"
      },
      "execution_count": 18,
      "outputs": []
    },
    {
      "cell_type": "code",
      "source": [
        "test = '\"haha'\n",
        "print(test)\n",
        "print(xu_ly_dau_cau(test))"
      ],
      "metadata": {
        "colab": {
          "base_uri": "https://localhost:8080/"
        },
        "id": "y0uTDUug2PFn",
        "outputId": "570ca3fb-b0b3-4230-bc23-6d336e55ed7c"
      },
      "execution_count": 19,
      "outputs": [
        {
          "output_type": "stream",
          "name": "stdout",
          "text": [
            "\"haha\n",
            "haha\n"
          ]
        }
      ]
    },
    {
      "cell_type": "markdown",
      "source": [
        "Các xử lý cần trong bài toán này"
      ],
      "metadata": {
        "id": "MYWFB9rfnrW2"
      }
    },
    {
      "cell_type": "code",
      "source": [
        "def tien_xu_li(text):\n",
        "  text = chuan_hoa_unicode(text)\n",
        "  text = clean_link(text)\n",
        "  text = clean_numbers(text)\n",
        "  text = xu_ly_dau_cau(text)\n",
        "  text = chuan_hoa_dau_cau_tieng_viet(text)\n",
        "  # text = tach_tu_tieng_viet(text)\n",
        "  text = chuyen_chu_thuong(text)\n",
        "  text = chuan_hoa_cau(text)\n",
        "\n",
        "  return text"
      ],
      "metadata": {
        "id": "HFCslcUoNN-3"
      },
      "execution_count": 20,
      "outputs": []
    },
    {
      "cell_type": "code",
      "source": [
        "df_clean = df.copy()\n",
        "df_clean.shape"
      ],
      "metadata": {
        "colab": {
          "base_uri": "https://localhost:8080/"
        },
        "id": "ts9aEc8xQ0RX",
        "outputId": "83d314e0-0325-4d5e-9eec-6db4ed2c8ef8"
      },
      "execution_count": 21,
      "outputs": [
        {
          "output_type": "execute_result",
          "data": {
            "text/plain": [
              "(50000, 2)"
            ]
          },
          "metadata": {},
          "execution_count": 21
        }
      ]
    },
    {
      "cell_type": "code",
      "source": [
        "df_clean.head(5)"
      ],
      "metadata": {
        "colab": {
          "base_uri": "https://localhost:8080/",
          "height": 206
        },
        "id": "K6E0hgou9oDO",
        "outputId": "21604a2f-12b7-4a3d-ba9f-fbffd64f5d75"
      },
      "execution_count": 22,
      "outputs": [
        {
          "output_type": "execute_result",
          "data": {
            "text/plain": [
              "  sentiment                                          vi_review\n",
              "0  positive  Một trong những người đánh giá khác đã đề cập ...\n",
              "1  positive  Một sản phẩm nhỏ tuyệt vời. <br /><br />Kỹ thu...\n",
              "2  positive  Tôi nghĩ đây là một cách tuyệt vời để dành thờ...\n",
              "3  negative  Về cơ bản, có một gia đình mà một cậu bé (Jake...\n",
              "4  positive  \"Love in the Time of Money\" của Petter Mattei ..."
            ],
            "text/html": [
              "\n",
              "  <div id=\"df-a98c56b2-5af3-4420-9057-a6b8f2e12360\" class=\"colab-df-container\">\n",
              "    <div>\n",
              "<style scoped>\n",
              "    .dataframe tbody tr th:only-of-type {\n",
              "        vertical-align: middle;\n",
              "    }\n",
              "\n",
              "    .dataframe tbody tr th {\n",
              "        vertical-align: top;\n",
              "    }\n",
              "\n",
              "    .dataframe thead th {\n",
              "        text-align: right;\n",
              "    }\n",
              "</style>\n",
              "<table border=\"1\" class=\"dataframe\">\n",
              "  <thead>\n",
              "    <tr style=\"text-align: right;\">\n",
              "      <th></th>\n",
              "      <th>sentiment</th>\n",
              "      <th>vi_review</th>\n",
              "    </tr>\n",
              "  </thead>\n",
              "  <tbody>\n",
              "    <tr>\n",
              "      <th>0</th>\n",
              "      <td>positive</td>\n",
              "      <td>Một trong những người đánh giá khác đã đề cập ...</td>\n",
              "    </tr>\n",
              "    <tr>\n",
              "      <th>1</th>\n",
              "      <td>positive</td>\n",
              "      <td>Một sản phẩm nhỏ tuyệt vời. &lt;br /&gt;&lt;br /&gt;Kỹ thu...</td>\n",
              "    </tr>\n",
              "    <tr>\n",
              "      <th>2</th>\n",
              "      <td>positive</td>\n",
              "      <td>Tôi nghĩ đây là một cách tuyệt vời để dành thờ...</td>\n",
              "    </tr>\n",
              "    <tr>\n",
              "      <th>3</th>\n",
              "      <td>negative</td>\n",
              "      <td>Về cơ bản, có một gia đình mà một cậu bé (Jake...</td>\n",
              "    </tr>\n",
              "    <tr>\n",
              "      <th>4</th>\n",
              "      <td>positive</td>\n",
              "      <td>\"Love in the Time of Money\" của Petter Mattei ...</td>\n",
              "    </tr>\n",
              "  </tbody>\n",
              "</table>\n",
              "</div>\n",
              "    <div class=\"colab-df-buttons\">\n",
              "\n",
              "  <div class=\"colab-df-container\">\n",
              "    <button class=\"colab-df-convert\" onclick=\"convertToInteractive('df-a98c56b2-5af3-4420-9057-a6b8f2e12360')\"\n",
              "            title=\"Convert this dataframe to an interactive table.\"\n",
              "            style=\"display:none;\">\n",
              "\n",
              "  <svg xmlns=\"http://www.w3.org/2000/svg\" height=\"24px\" viewBox=\"0 -960 960 960\">\n",
              "    <path d=\"M120-120v-720h720v720H120Zm60-500h600v-160H180v160Zm220 220h160v-160H400v160Zm0 220h160v-160H400v160ZM180-400h160v-160H180v160Zm440 0h160v-160H620v160ZM180-180h160v-160H180v160Zm440 0h160v-160H620v160Z\"/>\n",
              "  </svg>\n",
              "    </button>\n",
              "\n",
              "  <style>\n",
              "    .colab-df-container {\n",
              "      display:flex;\n",
              "      gap: 12px;\n",
              "    }\n",
              "\n",
              "    .colab-df-convert {\n",
              "      background-color: #E8F0FE;\n",
              "      border: none;\n",
              "      border-radius: 50%;\n",
              "      cursor: pointer;\n",
              "      display: none;\n",
              "      fill: #1967D2;\n",
              "      height: 32px;\n",
              "      padding: 0 0 0 0;\n",
              "      width: 32px;\n",
              "    }\n",
              "\n",
              "    .colab-df-convert:hover {\n",
              "      background-color: #E2EBFA;\n",
              "      box-shadow: 0px 1px 2px rgba(60, 64, 67, 0.3), 0px 1px 3px 1px rgba(60, 64, 67, 0.15);\n",
              "      fill: #174EA6;\n",
              "    }\n",
              "\n",
              "    .colab-df-buttons div {\n",
              "      margin-bottom: 4px;\n",
              "    }\n",
              "\n",
              "    [theme=dark] .colab-df-convert {\n",
              "      background-color: #3B4455;\n",
              "      fill: #D2E3FC;\n",
              "    }\n",
              "\n",
              "    [theme=dark] .colab-df-convert:hover {\n",
              "      background-color: #434B5C;\n",
              "      box-shadow: 0px 1px 3px 1px rgba(0, 0, 0, 0.15);\n",
              "      filter: drop-shadow(0px 1px 2px rgba(0, 0, 0, 0.3));\n",
              "      fill: #FFFFFF;\n",
              "    }\n",
              "  </style>\n",
              "\n",
              "    <script>\n",
              "      const buttonEl =\n",
              "        document.querySelector('#df-a98c56b2-5af3-4420-9057-a6b8f2e12360 button.colab-df-convert');\n",
              "      buttonEl.style.display =\n",
              "        google.colab.kernel.accessAllowed ? 'block' : 'none';\n",
              "\n",
              "      async function convertToInteractive(key) {\n",
              "        const element = document.querySelector('#df-a98c56b2-5af3-4420-9057-a6b8f2e12360');\n",
              "        const dataTable =\n",
              "          await google.colab.kernel.invokeFunction('convertToInteractive',\n",
              "                                                    [key], {});\n",
              "        if (!dataTable) return;\n",
              "\n",
              "        const docLinkHtml = 'Like what you see? Visit the ' +\n",
              "          '<a target=\"_blank\" href=https://colab.research.google.com/notebooks/data_table.ipynb>data table notebook</a>'\n",
              "          + ' to learn more about interactive tables.';\n",
              "        element.innerHTML = '';\n",
              "        dataTable['output_type'] = 'display_data';\n",
              "        await google.colab.output.renderOutput(dataTable, element);\n",
              "        const docLink = document.createElement('div');\n",
              "        docLink.innerHTML = docLinkHtml;\n",
              "        element.appendChild(docLink);\n",
              "      }\n",
              "    </script>\n",
              "  </div>\n",
              "\n",
              "\n",
              "<div id=\"df-8366d868-847f-4df8-b5db-d0b94465202d\">\n",
              "  <button class=\"colab-df-quickchart\" onclick=\"quickchart('df-8366d868-847f-4df8-b5db-d0b94465202d')\"\n",
              "            title=\"Suggest charts\"\n",
              "            style=\"display:none;\">\n",
              "\n",
              "<svg xmlns=\"http://www.w3.org/2000/svg\" height=\"24px\"viewBox=\"0 0 24 24\"\n",
              "     width=\"24px\">\n",
              "    <g>\n",
              "        <path d=\"M19 3H5c-1.1 0-2 .9-2 2v14c0 1.1.9 2 2 2h14c1.1 0 2-.9 2-2V5c0-1.1-.9-2-2-2zM9 17H7v-7h2v7zm4 0h-2V7h2v10zm4 0h-2v-4h2v4z\"/>\n",
              "    </g>\n",
              "</svg>\n",
              "  </button>\n",
              "\n",
              "<style>\n",
              "  .colab-df-quickchart {\n",
              "      --bg-color: #E8F0FE;\n",
              "      --fill-color: #1967D2;\n",
              "      --hover-bg-color: #E2EBFA;\n",
              "      --hover-fill-color: #174EA6;\n",
              "      --disabled-fill-color: #AAA;\n",
              "      --disabled-bg-color: #DDD;\n",
              "  }\n",
              "\n",
              "  [theme=dark] .colab-df-quickchart {\n",
              "      --bg-color: #3B4455;\n",
              "      --fill-color: #D2E3FC;\n",
              "      --hover-bg-color: #434B5C;\n",
              "      --hover-fill-color: #FFFFFF;\n",
              "      --disabled-bg-color: #3B4455;\n",
              "      --disabled-fill-color: #666;\n",
              "  }\n",
              "\n",
              "  .colab-df-quickchart {\n",
              "    background-color: var(--bg-color);\n",
              "    border: none;\n",
              "    border-radius: 50%;\n",
              "    cursor: pointer;\n",
              "    display: none;\n",
              "    fill: var(--fill-color);\n",
              "    height: 32px;\n",
              "    padding: 0;\n",
              "    width: 32px;\n",
              "  }\n",
              "\n",
              "  .colab-df-quickchart:hover {\n",
              "    background-color: var(--hover-bg-color);\n",
              "    box-shadow: 0 1px 2px rgba(60, 64, 67, 0.3), 0 1px 3px 1px rgba(60, 64, 67, 0.15);\n",
              "    fill: var(--button-hover-fill-color);\n",
              "  }\n",
              "\n",
              "  .colab-df-quickchart-complete:disabled,\n",
              "  .colab-df-quickchart-complete:disabled:hover {\n",
              "    background-color: var(--disabled-bg-color);\n",
              "    fill: var(--disabled-fill-color);\n",
              "    box-shadow: none;\n",
              "  }\n",
              "\n",
              "  .colab-df-spinner {\n",
              "    border: 2px solid var(--fill-color);\n",
              "    border-color: transparent;\n",
              "    border-bottom-color: var(--fill-color);\n",
              "    animation:\n",
              "      spin 1s steps(1) infinite;\n",
              "  }\n",
              "\n",
              "  @keyframes spin {\n",
              "    0% {\n",
              "      border-color: transparent;\n",
              "      border-bottom-color: var(--fill-color);\n",
              "      border-left-color: var(--fill-color);\n",
              "    }\n",
              "    20% {\n",
              "      border-color: transparent;\n",
              "      border-left-color: var(--fill-color);\n",
              "      border-top-color: var(--fill-color);\n",
              "    }\n",
              "    30% {\n",
              "      border-color: transparent;\n",
              "      border-left-color: var(--fill-color);\n",
              "      border-top-color: var(--fill-color);\n",
              "      border-right-color: var(--fill-color);\n",
              "    }\n",
              "    40% {\n",
              "      border-color: transparent;\n",
              "      border-right-color: var(--fill-color);\n",
              "      border-top-color: var(--fill-color);\n",
              "    }\n",
              "    60% {\n",
              "      border-color: transparent;\n",
              "      border-right-color: var(--fill-color);\n",
              "    }\n",
              "    80% {\n",
              "      border-color: transparent;\n",
              "      border-right-color: var(--fill-color);\n",
              "      border-bottom-color: var(--fill-color);\n",
              "    }\n",
              "    90% {\n",
              "      border-color: transparent;\n",
              "      border-bottom-color: var(--fill-color);\n",
              "    }\n",
              "  }\n",
              "</style>\n",
              "\n",
              "  <script>\n",
              "    async function quickchart(key) {\n",
              "      const quickchartButtonEl =\n",
              "        document.querySelector('#' + key + ' button');\n",
              "      quickchartButtonEl.disabled = true;  // To prevent multiple clicks.\n",
              "      quickchartButtonEl.classList.add('colab-df-spinner');\n",
              "      try {\n",
              "        const charts = await google.colab.kernel.invokeFunction(\n",
              "            'suggestCharts', [key], {});\n",
              "      } catch (error) {\n",
              "        console.error('Error during call to suggestCharts:', error);\n",
              "      }\n",
              "      quickchartButtonEl.classList.remove('colab-df-spinner');\n",
              "      quickchartButtonEl.classList.add('colab-df-quickchart-complete');\n",
              "    }\n",
              "    (() => {\n",
              "      let quickchartButtonEl =\n",
              "        document.querySelector('#df-8366d868-847f-4df8-b5db-d0b94465202d button');\n",
              "      quickchartButtonEl.style.display =\n",
              "        google.colab.kernel.accessAllowed ? 'block' : 'none';\n",
              "    })();\n",
              "  </script>\n",
              "</div>\n",
              "\n",
              "    </div>\n",
              "  </div>\n"
            ],
            "application/vnd.google.colaboratory.intrinsic+json": {
              "type": "dataframe",
              "variable_name": "df_clean",
              "summary": "{\n  \"name\": \"df_clean\",\n  \"rows\": 50000,\n  \"fields\": [\n    {\n      \"column\": \"sentiment\",\n      \"properties\": {\n        \"dtype\": \"category\",\n        \"num_unique_values\": 2,\n        \"samples\": [\n          \"negative\",\n          \"positive\"\n        ],\n        \"semantic_type\": \"\",\n        \"description\": \"\"\n      }\n    },\n    {\n      \"column\": \"vi_review\",\n      \"properties\": {\n        \"dtype\": \"string\",\n        \"num_unique_values\": 49594,\n        \"samples\": [\n          \"M\\u1ed9t c\\u1ed5 \\u0111i\\u1ec3n tuy\\u1ec7t \\u0111\\u1ed1i !! Ch\\u1ec9 \\u0111\\u1ea1o ho\\u00e0n h\\u1ea3o, di\\u1ec5n xu\\u1ea5t tuy\\u1ec7t v\\u1eddi. T\\u1eeb ng\\u1eef ng\\u1eafn g\\u1ecdn cho c\\u00f4ng vi\\u1ec7c tuy\\u1ec7t v\\u1eddi n\\u00e0y. B\\u1ed9 phim d\\u1ee9t kho\\u00e1t nh\\u1ea5t v\\u1ec1 C\\u1ea3nh s\\u00e1t Mumbai. B\\u1ed9 phim n\\u00e0y \\u0111\\u00e3 v\\u01b0\\u1ee3t qua th\\u1eed th\\u00e1ch c\\u1ee7a th\\u1eddi gian.<br /><br />Om Puri \\u0111\\u00e3 th\\u1ec3 hi\\u1ec7n xu\\u1ea5t s\\u1eafc, Smita Patil c\\u0169ng kh\\u00f4ng k\\u00e9m c\\u1ea1nh. T\\u1ea5t c\\u1ea3 c\\u00e1c di\\u1ec5n vi\\u00ean \\u0111\\u00e3 c\\u1ed1 g\\u1eafng h\\u1ebft s\\u1ee9c v\\u00e0 b\\u1ed9 phim khi\\u1ebfn b\\u1ea1n h\\u1ed3i h\\u1ed9p \\u1edf m\\u1ecdi th\\u1eddi \\u0111i\\u1ec3m. B\\u1ed9 phim n\\u00e0y l\\u00e0m lay \\u0111\\u1ed9ng to\\u00e0n b\\u1ed9 con ng\\u01b0\\u1eddi b\\u1ea1n v\\u00e0 bu\\u1ed9c b\\u1ea1n ph\\u1ea3i suy ngh\\u0129 l\\u1ea1i v\\u1ec1 nhi\\u1ec1u v\\u1ea5n \\u0111\\u1ec1 m\\u00e0 x\\u00e3 h\\u1ed9i ch\\u00fang ta \\u0111ang ph\\u1ea3i \\u0111\\u1ed1i m\\u1eb7t.<br /><br />\\u0110\\u00e2y l\\u00e0 c\\u00e2u chuy\\u1ec7n v\\u1ec1 m\\u1ed9t c\\u1ea3nh s\\u00e1t (Om Puri ) b\\u1eaft \\u0111\\u1ea7u s\\u1ef1 nghi\\u1ec7p c\\u1ee7a m\\u00ecnh nh\\u01b0 m\\u1ed9t ng\\u01b0\\u1eddi l\\u01b0\\u01a1ng thi\\u1ec7n nh\\u01b0ng cu\\u1ed1i c\\u00f9ng tho\\u00e1i h\\u00f3a th\\u00e0nh m\\u1ed9t k\\u1ebb gi\\u1ebft ng\\u01b0\\u1eddi. N\\u1ed7 l\\u1ef1c \\u0111\\u1ea7u ti\\u00ean \\u1edf Bollywood nh\\u1eb1m v\\u00e0o h\\u1eadu tr\\u01b0\\u1eddng v\\u00e0 ph\\u01a1i b\\u00e0y s\\u1ef1 th\\u1eadt \\u0111au l\\u00f2ng v\\u1ec1 c\\u1ea3nh s\\u00e1t Mumbai. Xin ch\\u00fac m\\u1eebng Nihalani!! <br /><br />Sau b\\u1ed9 phim n\\u00e0y, h\\u00e0ng lo\\u1ea1t phim Bollywood \\u0111\\u00e3 \\u0111\\u01b0\\u1ee3c ph\\u00e1t h\\u00e0nh ph\\u01a1i b\\u00e0y m\\u1ed1i quan h\\u1ec7 t\\u1ed9i ph\\u1ea1m-ch\\u00ednh tr\\u1ecb gia-c\\u1ea3nh s\\u00e1t. V\\u00ec v\\u1eady, b\\u1ed9 phim n\\u00e0y th\\u1ef1c s\\u1ef1 l\\u00e0 m\\u1ed9t ng\\u01b0\\u1eddi thi\\u1ebft l\\u1eadp xu h\\u01b0\\u1edbng. Xu h\\u01b0\\u1edbng n\\u00e0y \\u0111\\u00e3 th\\u1ed1ng tr\\u1ecb n\\u1ec1n \\u0111i\\u1ec7n \\u1ea3nh Hindi trong h\\u01a1n m\\u1ed9t th\\u1eadp k\\u1ef7. <br /><br />B\\u1ed9 phim n\\u00e0y \\u0111\\u1ea1t doanh thu ph\\u00f2ng v\\u00e9 v\\u1eeba ph\\u1ea3i. <br /><br />M\\u1ed9t b\\u1ed9 phim kh\\u00f4ng th\\u1ec3 b\\u1ecf qua \\u0111\\u1ed1i v\\u1edbi nh\\u1eefng ng\\u01b0\\u1eddi h\\u00e2m m\\u1ed9 \\u0111i\\u1ec7n \\u1ea3nh s\\u00e0nh \\u0111i\\u1ec7u.\",\n          \"'Northfork' l\\u00e0 \\u0111i\\u1ec1u kh\\u00f4ng \\u1ed5n v\\u1edbi phim \\u0111\\u1ed9c l\\u1eadp. \\u0110\\u1ed1i v\\u1edbi t\\u1ea5t c\\u1ea3 nh\\u1eefng l\\u1eddi b\\u00ecnh lu\\u1eadn c\\u1ee9ng r\\u1eafn c\\u1ee7a h\\u1ecd v\\u00e0 c\\u00e1c h\\u00e3ng phim t\\u1ea5n c\\u00f4ng c\\u00e1c ch\\u1ee7 \\u0111\\u1ec1 l\\u1edbn s\\u1ebd kh\\u00f4ng l\\u00e0m \\u0111\\u01b0\\u1ee3c, \\u0111\\u00e2y l\\u00e0 s\\u1ef1 hy sinh m\\u00e0 ch\\u00fang t\\u00f4i th\\u1ef1c hi\\u1ec7n. Trong g\\u1ea7n hai ti\\u1ebfng \\u0111\\u1ed3ng h\\u1ed3, t\\u00f4i ph\\u1ea3i ch\\u1ecbu s\\u1ef1 tra t\\u1ea5n v\\u00e0 \\u0111au \\u0111\\u1edbn c\\u1ee7a m\\u1ed9t b\\u1ed9 phim b\\u1eaft \\u0111\\u1ea7u b\\u1eb1ng vi\\u1ec7c lang thang nh\\u01b0 m\\u1ed9t ng\\u01b0\\u1eddi m\\u00f9 \\u1edf m\\u1ed9t n\\u01a1i m\\u1edbi v\\u00e0 k\\u1ebft th\\u00fac m\\u00e0 kh\\u00f4ng t\\u00ecm th\\u1ea5y b\\u1ea5t k\\u1ef3 v\\u00f9ng \\u0111\\u1ea5t m\\u1edbi n\\u00e0o v\\u00e0 ch\\u1ebft m\\u1ed9t c\\u00e1ch may m\\u1eafn.<br /><br />C\\u00f3 nh\\u1eefng c\\u00e2u chuy\\u1ec7n song song chi ti\\u1ebft \\u0111\\u00f3 l\\u00e0 m\\u1ed9t th\\u1ecb tr\\u1ea5n \\u0111ang h\\u1ea5p h\\u1ed1i v\\u00e0 m\\u1ed9t c\\u1eadu b\\u00e9 \\u0111ang h\\u1ea5p h\\u1ed1i. Hai ng\\u01b0\\u1eddi \\u0111\\u00e0n \\u00f4ng m\\u1eb7c \\u0111\\u1ed3 \\u0111en (m\\u1ed9t trong s\\u1ed1 h\\u1ecd l\\u00e0 James Woods) ph\\u1ea3i \\u00e9p bu\\u1ed9c nh\\u1eefng c\\u01b0 d\\u00e2n c\\u00f2n l\\u1ea1i c\\u1ee7a Northfork r\\u1eddi \\u0111i tr\\u01b0\\u1edbc khi m\\u1ed9t con \\u0111\\u1eadp m\\u1edf ra v\\u00e0 l\\u00e0m ng\\u1eadp th\\u1ecb tr\\u1ea5n. C\\u00e2u chuy\\u1ec7n kh\\u00e1c k\\u1ec3 v\\u1ec1 m\\u1ed9t c\\u1eadu b\\u00e9 tr\\u1edf v\\u1ec1 v\\u1edbi v\\u1ecb linh m\\u1ee5c (Nick Nolte) \\u0111\\u00e3 trao c\\u1eadu cho cha m\\u1eb9. Anh \\u1ea5y s\\u1eafp ch\\u1ebft v\\u00e0 t\\u00f4i \\u0111o\\u00e1n l\\u00e0 \\u0111\\u00e3 \\u0111\\u01b0\\u1ee3c c\\u00e1c thi\\u00ean th\\u1ea7n \\u0111\\u1ebfn th\\u0103m. Trong s\\u1ed1 \\u0111\\u00f3 c\\u00f3 Anthony Edwards v\\u1edbi c\\u1eb7p k\\u00ednh k\\u1ef3 qu\\u00e1i v\\u00e0 Daryl Hannah trong b\\u1ed9 trang ph\\u1ee5c k\\u1ef3 qu\\u00e1i khi\\u1ebfn t\\u00f4i nh\\u1edb \\u0111\\u1ebfn chi\\u1ebfc \\u00e1o c\\u01b0\\u1edbp bi\\u1ec3n t\\u1eeb Seinfeld.<br /><br />M\\u1eb7c d\\u00f9 \\u0111\\u00e2y l\\u00e0 \\\"c\\u1ed1t truy\\u1ec7n\\\", nh\\u01b0ng \\u0111\\u00f3 kh\\u00f4ng ph\\u1ea3i l\\u00e0 n\\u1ed9i dung c\\u1ee7a b\\u1ed9 phim. B\\u1ed9 phim kh\\u00f4ng n\\u00f3i v\\u1ec1 \\u0111i\\u1ec1u g\\u00ec. N\\u00f3 kh\\u00f4ng l\\u00e0m g\\u00ec, kh\\u00f4ng n\\u00f3i g\\u00ec, kh\\u00f4ng \\u0111i \\u0111\\u1ebfn \\u0111\\u00e2u v\\u00e0 kh\\u00f4ng c\\u00f3 g\\u00ec th\\u00fa v\\u1ecb \\u0111\\u1ec3 th\\u1ec3 hi\\u1ec7n. C\\u00f3 l\\u1ebd theo thi\\u1ebft k\\u1ebf, nhi\\u1ec1u kh\\u1ea3 n\\u0103ng l\\u00e0 h\\u1eadu qu\\u1ea3 c\\u1ee7a vi\\u1ec7c mu\\u1ed1n tr\\u1edf th\\u00e0nh David Lynch t\\u1ef1 ph\\u1ee5, si\\u00eau th\\u1ef1c - ch\\u00fang t\\u00f4i l\\u00e0 m\\u1ed9t b\\u1ed9 phim ngh\\u1ec7 thu\\u1eadt quan tr\\u1ecdng m\\u00e0 b\\u1ea1n kh\\u00f4ng th\\u1ec3 th\\u1ea5y - phong c\\u00e1ch ch\\u1ec9 \\u0111\\u1ea1o. To\\u00e0n b\\u1ed9 b\\u1ed9 phim \\u0111\\u01b0\\u1ee3c l\\u1ecdc qua m\\u1ed9t ph\\u00f4ng n\\u1ec1n x\\u00e1m x\\u1ecbt, t\\u00f4i cho r\\u1eb1ng ph\\u00f9 h\\u1ee3p v\\u1edbi m\\u1ed9t b\\u1ed9 phim v\\u1ec1 c\\u00e1i ch\\u1ebft. Thay v\\u00e0o \\u0111\\u00f3, n\\u00f3 ch\\u1ec9 khi\\u1ebfn b\\u1ed9 phim tr\\u1edf n\\u00ean kh\\u00f3 xem h\\u01a1n nhi\\u1ec1u.<br /><br />N\\u1ebfu b\\u1ea1n mu\\u1ed1n xem m\\u1ed9t b\\u1ed9 phim v\\u1ec1 nh\\u1eefng ng\\u01b0\\u1eddi \\u0111\\u00e0n \\u00f4ng m\\u1eb7c \\u0111\\u1ed3 \\u0111en, h\\u00e3y xem m\\u1ed9t trong hai phim 'Men in Black', kh\\u00f4ng qu\\u00e1 \\u1ea5n t\\u01b0\\u1ee3ng nh\\u01b0ng c\\u00f3 th\\u1ec3 so s\\u00e1nh v\\u1edbi 'Northfork' ' h\\u1ecd \\u0111\\u01b0\\u1ee3c n\\u00e2ng l\\u00ean tr\\u1ea1ng th\\u00e1i 'Citizen Kane'. N\\u1ebfu b\\u1ea1n mu\\u1ed1n xem m\\u1ed9t b\\u1ed9 phim v\\u1ec1 c\\u1eadu b\\u00e9 s\\u1eafp ch\\u1ebft, h\\u00e3y xem 'Lorenzo's Oil.' N\\u1ebfu b\\u1ea1n mu\\u1ed1n xem m\\u1ed9t b\\u1ed9 phim c\\u00f3 s\\u1ef1 t\\u00e0n ph\\u00e1 c\\u1ee7a m\\u1ed9t th\\u1ecb tr\\u1ea5n d\\u01b0\\u1edbi n\\u01b0\\u1edbc, h\\u00e3y xem 'O Brother, Where Art Thou?' N\\u1ebfu b\\u1ea1n mu\\u1ed1n xem m\\u1ed9t b\\u1ed9 phim hay h\\u01a1n 'Northfork', th\\u00ec c\\u00f3 h\\u00e0ng tr\\u0103m b\\u1ed9 phim. N\\u1ebfu b\\u1ea1n mu\\u1ed1n xem m\\u1ed9t b\\u1ed9 phim t\\u1ec7 h\\u01a1n, ch\\u1ec9 c\\u00f3 m\\u1ed9t s\\u1ed1 \\u00edt. 0* tr\\u00ean ****\"\n        ],\n        \"semantic_type\": \"\",\n        \"description\": \"\"\n      }\n    }\n  ]\n}"
            }
          },
          "metadata": {},
          "execution_count": 22
        }
      ]
    },
    {
      "cell_type": "code",
      "source": [
        "df_clean['vi_review'] = df_clean['vi_review'].apply(tien_xu_li)"
      ],
      "metadata": {
        "collapsed": true,
        "id": "QhZhwENus2N4"
      },
      "execution_count": 23,
      "outputs": []
    },
    {
      "cell_type": "code",
      "source": [
        "df_clean.shape"
      ],
      "metadata": {
        "id": "513QHvRL2gDC",
        "colab": {
          "base_uri": "https://localhost:8080/"
        },
        "outputId": "7eaf7260-3a1f-4f77-8704-c8098b7fd043"
      },
      "execution_count": 24,
      "outputs": [
        {
          "output_type": "execute_result",
          "data": {
            "text/plain": [
              "(50000, 2)"
            ]
          },
          "metadata": {},
          "execution_count": 24
        }
      ]
    },
    {
      "cell_type": "markdown",
      "source": [
        "Loại bỏ content trùng lặp\n",
        "\n"
      ],
      "metadata": {
        "id": "2ceWqdPUCIZZ"
      }
    },
    {
      "cell_type": "code",
      "source": [
        "df_clean = df_clean.drop_duplicates(subset=['vi_review'])"
      ],
      "metadata": {
        "id": "EfhYqLiUCAum"
      },
      "execution_count": 25,
      "outputs": []
    },
    {
      "cell_type": "code",
      "source": [
        "df_clean.shape"
      ],
      "metadata": {
        "id": "MwxE9aIBsmOG",
        "colab": {
          "base_uri": "https://localhost:8080/"
        },
        "outputId": "5a8fc24e-990c-4e98-d4bb-ae349d23c8d1"
      },
      "execution_count": 26,
      "outputs": [
        {
          "output_type": "execute_result",
          "data": {
            "text/plain": [
              "(49594, 2)"
            ]
          },
          "metadata": {},
          "execution_count": 26
        }
      ]
    },
    {
      "cell_type": "code",
      "source": [
        "df_clean.head(10)"
      ],
      "metadata": {
        "id": "YNBJHBXV3fd2",
        "colab": {
          "base_uri": "https://localhost:8080/",
          "height": 363
        },
        "outputId": "f6e4c28b-1c24-4532-d4c1-f1c5ba665cc2"
      },
      "execution_count": 27,
      "outputs": [
        {
          "output_type": "execute_result",
          "data": {
            "text/plain": [
              "  sentiment                                          vi_review\n",
              "0  positive  một trong những người đánh giá khác đã đề cập ...\n",
              "1  positive  một sản phẩm nhỏ tuyệt vời . br br kỹ thuật qu...\n",
              "2  positive  tôi nghĩ đây là một cách tuyệt vời để dành thờ...\n",
              "3  negative  về cơ bản , có một gia đình mà một cậu bé jake...\n",
              "4  positive  love in the time of money của petter mattei là...\n",
              "5  positive  có lẽ là bộ phim yêu thích nhất mọi thời đại c...\n",
              "6  positive  tôi chắc chắn muốn thấy sự hồi sinh của loạt p...\n",
              "7  negative  chương trình này là một ý tưởng tuyệt vời , mớ...\n",
              "8  negative  được khuyến khích bởi những bình luận tích cực...\n",
              "9  positive  nếu bạn thích những tràng cười sảng khoái nguy..."
            ],
            "text/html": [
              "\n",
              "  <div id=\"df-1017b5d8-e244-4348-95d2-c7d82e927f3b\" class=\"colab-df-container\">\n",
              "    <div>\n",
              "<style scoped>\n",
              "    .dataframe tbody tr th:only-of-type {\n",
              "        vertical-align: middle;\n",
              "    }\n",
              "\n",
              "    .dataframe tbody tr th {\n",
              "        vertical-align: top;\n",
              "    }\n",
              "\n",
              "    .dataframe thead th {\n",
              "        text-align: right;\n",
              "    }\n",
              "</style>\n",
              "<table border=\"1\" class=\"dataframe\">\n",
              "  <thead>\n",
              "    <tr style=\"text-align: right;\">\n",
              "      <th></th>\n",
              "      <th>sentiment</th>\n",
              "      <th>vi_review</th>\n",
              "    </tr>\n",
              "  </thead>\n",
              "  <tbody>\n",
              "    <tr>\n",
              "      <th>0</th>\n",
              "      <td>positive</td>\n",
              "      <td>một trong những người đánh giá khác đã đề cập ...</td>\n",
              "    </tr>\n",
              "    <tr>\n",
              "      <th>1</th>\n",
              "      <td>positive</td>\n",
              "      <td>một sản phẩm nhỏ tuyệt vời . br br kỹ thuật qu...</td>\n",
              "    </tr>\n",
              "    <tr>\n",
              "      <th>2</th>\n",
              "      <td>positive</td>\n",
              "      <td>tôi nghĩ đây là một cách tuyệt vời để dành thờ...</td>\n",
              "    </tr>\n",
              "    <tr>\n",
              "      <th>3</th>\n",
              "      <td>negative</td>\n",
              "      <td>về cơ bản , có một gia đình mà một cậu bé jake...</td>\n",
              "    </tr>\n",
              "    <tr>\n",
              "      <th>4</th>\n",
              "      <td>positive</td>\n",
              "      <td>love in the time of money của petter mattei là...</td>\n",
              "    </tr>\n",
              "    <tr>\n",
              "      <th>5</th>\n",
              "      <td>positive</td>\n",
              "      <td>có lẽ là bộ phim yêu thích nhất mọi thời đại c...</td>\n",
              "    </tr>\n",
              "    <tr>\n",
              "      <th>6</th>\n",
              "      <td>positive</td>\n",
              "      <td>tôi chắc chắn muốn thấy sự hồi sinh của loạt p...</td>\n",
              "    </tr>\n",
              "    <tr>\n",
              "      <th>7</th>\n",
              "      <td>negative</td>\n",
              "      <td>chương trình này là một ý tưởng tuyệt vời , mớ...</td>\n",
              "    </tr>\n",
              "    <tr>\n",
              "      <th>8</th>\n",
              "      <td>negative</td>\n",
              "      <td>được khuyến khích bởi những bình luận tích cực...</td>\n",
              "    </tr>\n",
              "    <tr>\n",
              "      <th>9</th>\n",
              "      <td>positive</td>\n",
              "      <td>nếu bạn thích những tràng cười sảng khoái nguy...</td>\n",
              "    </tr>\n",
              "  </tbody>\n",
              "</table>\n",
              "</div>\n",
              "    <div class=\"colab-df-buttons\">\n",
              "\n",
              "  <div class=\"colab-df-container\">\n",
              "    <button class=\"colab-df-convert\" onclick=\"convertToInteractive('df-1017b5d8-e244-4348-95d2-c7d82e927f3b')\"\n",
              "            title=\"Convert this dataframe to an interactive table.\"\n",
              "            style=\"display:none;\">\n",
              "\n",
              "  <svg xmlns=\"http://www.w3.org/2000/svg\" height=\"24px\" viewBox=\"0 -960 960 960\">\n",
              "    <path d=\"M120-120v-720h720v720H120Zm60-500h600v-160H180v160Zm220 220h160v-160H400v160Zm0 220h160v-160H400v160ZM180-400h160v-160H180v160Zm440 0h160v-160H620v160ZM180-180h160v-160H180v160Zm440 0h160v-160H620v160Z\"/>\n",
              "  </svg>\n",
              "    </button>\n",
              "\n",
              "  <style>\n",
              "    .colab-df-container {\n",
              "      display:flex;\n",
              "      gap: 12px;\n",
              "    }\n",
              "\n",
              "    .colab-df-convert {\n",
              "      background-color: #E8F0FE;\n",
              "      border: none;\n",
              "      border-radius: 50%;\n",
              "      cursor: pointer;\n",
              "      display: none;\n",
              "      fill: #1967D2;\n",
              "      height: 32px;\n",
              "      padding: 0 0 0 0;\n",
              "      width: 32px;\n",
              "    }\n",
              "\n",
              "    .colab-df-convert:hover {\n",
              "      background-color: #E2EBFA;\n",
              "      box-shadow: 0px 1px 2px rgba(60, 64, 67, 0.3), 0px 1px 3px 1px rgba(60, 64, 67, 0.15);\n",
              "      fill: #174EA6;\n",
              "    }\n",
              "\n",
              "    .colab-df-buttons div {\n",
              "      margin-bottom: 4px;\n",
              "    }\n",
              "\n",
              "    [theme=dark] .colab-df-convert {\n",
              "      background-color: #3B4455;\n",
              "      fill: #D2E3FC;\n",
              "    }\n",
              "\n",
              "    [theme=dark] .colab-df-convert:hover {\n",
              "      background-color: #434B5C;\n",
              "      box-shadow: 0px 1px 3px 1px rgba(0, 0, 0, 0.15);\n",
              "      filter: drop-shadow(0px 1px 2px rgba(0, 0, 0, 0.3));\n",
              "      fill: #FFFFFF;\n",
              "    }\n",
              "  </style>\n",
              "\n",
              "    <script>\n",
              "      const buttonEl =\n",
              "        document.querySelector('#df-1017b5d8-e244-4348-95d2-c7d82e927f3b button.colab-df-convert');\n",
              "      buttonEl.style.display =\n",
              "        google.colab.kernel.accessAllowed ? 'block' : 'none';\n",
              "\n",
              "      async function convertToInteractive(key) {\n",
              "        const element = document.querySelector('#df-1017b5d8-e244-4348-95d2-c7d82e927f3b');\n",
              "        const dataTable =\n",
              "          await google.colab.kernel.invokeFunction('convertToInteractive',\n",
              "                                                    [key], {});\n",
              "        if (!dataTable) return;\n",
              "\n",
              "        const docLinkHtml = 'Like what you see? Visit the ' +\n",
              "          '<a target=\"_blank\" href=https://colab.research.google.com/notebooks/data_table.ipynb>data table notebook</a>'\n",
              "          + ' to learn more about interactive tables.';\n",
              "        element.innerHTML = '';\n",
              "        dataTable['output_type'] = 'display_data';\n",
              "        await google.colab.output.renderOutput(dataTable, element);\n",
              "        const docLink = document.createElement('div');\n",
              "        docLink.innerHTML = docLinkHtml;\n",
              "        element.appendChild(docLink);\n",
              "      }\n",
              "    </script>\n",
              "  </div>\n",
              "\n",
              "\n",
              "<div id=\"df-e9af4fa6-e57e-451f-9282-7871abaffea8\">\n",
              "  <button class=\"colab-df-quickchart\" onclick=\"quickchart('df-e9af4fa6-e57e-451f-9282-7871abaffea8')\"\n",
              "            title=\"Suggest charts\"\n",
              "            style=\"display:none;\">\n",
              "\n",
              "<svg xmlns=\"http://www.w3.org/2000/svg\" height=\"24px\"viewBox=\"0 0 24 24\"\n",
              "     width=\"24px\">\n",
              "    <g>\n",
              "        <path d=\"M19 3H5c-1.1 0-2 .9-2 2v14c0 1.1.9 2 2 2h14c1.1 0 2-.9 2-2V5c0-1.1-.9-2-2-2zM9 17H7v-7h2v7zm4 0h-2V7h2v10zm4 0h-2v-4h2v4z\"/>\n",
              "    </g>\n",
              "</svg>\n",
              "  </button>\n",
              "\n",
              "<style>\n",
              "  .colab-df-quickchart {\n",
              "      --bg-color: #E8F0FE;\n",
              "      --fill-color: #1967D2;\n",
              "      --hover-bg-color: #E2EBFA;\n",
              "      --hover-fill-color: #174EA6;\n",
              "      --disabled-fill-color: #AAA;\n",
              "      --disabled-bg-color: #DDD;\n",
              "  }\n",
              "\n",
              "  [theme=dark] .colab-df-quickchart {\n",
              "      --bg-color: #3B4455;\n",
              "      --fill-color: #D2E3FC;\n",
              "      --hover-bg-color: #434B5C;\n",
              "      --hover-fill-color: #FFFFFF;\n",
              "      --disabled-bg-color: #3B4455;\n",
              "      --disabled-fill-color: #666;\n",
              "  }\n",
              "\n",
              "  .colab-df-quickchart {\n",
              "    background-color: var(--bg-color);\n",
              "    border: none;\n",
              "    border-radius: 50%;\n",
              "    cursor: pointer;\n",
              "    display: none;\n",
              "    fill: var(--fill-color);\n",
              "    height: 32px;\n",
              "    padding: 0;\n",
              "    width: 32px;\n",
              "  }\n",
              "\n",
              "  .colab-df-quickchart:hover {\n",
              "    background-color: var(--hover-bg-color);\n",
              "    box-shadow: 0 1px 2px rgba(60, 64, 67, 0.3), 0 1px 3px 1px rgba(60, 64, 67, 0.15);\n",
              "    fill: var(--button-hover-fill-color);\n",
              "  }\n",
              "\n",
              "  .colab-df-quickchart-complete:disabled,\n",
              "  .colab-df-quickchart-complete:disabled:hover {\n",
              "    background-color: var(--disabled-bg-color);\n",
              "    fill: var(--disabled-fill-color);\n",
              "    box-shadow: none;\n",
              "  }\n",
              "\n",
              "  .colab-df-spinner {\n",
              "    border: 2px solid var(--fill-color);\n",
              "    border-color: transparent;\n",
              "    border-bottom-color: var(--fill-color);\n",
              "    animation:\n",
              "      spin 1s steps(1) infinite;\n",
              "  }\n",
              "\n",
              "  @keyframes spin {\n",
              "    0% {\n",
              "      border-color: transparent;\n",
              "      border-bottom-color: var(--fill-color);\n",
              "      border-left-color: var(--fill-color);\n",
              "    }\n",
              "    20% {\n",
              "      border-color: transparent;\n",
              "      border-left-color: var(--fill-color);\n",
              "      border-top-color: var(--fill-color);\n",
              "    }\n",
              "    30% {\n",
              "      border-color: transparent;\n",
              "      border-left-color: var(--fill-color);\n",
              "      border-top-color: var(--fill-color);\n",
              "      border-right-color: var(--fill-color);\n",
              "    }\n",
              "    40% {\n",
              "      border-color: transparent;\n",
              "      border-right-color: var(--fill-color);\n",
              "      border-top-color: var(--fill-color);\n",
              "    }\n",
              "    60% {\n",
              "      border-color: transparent;\n",
              "      border-right-color: var(--fill-color);\n",
              "    }\n",
              "    80% {\n",
              "      border-color: transparent;\n",
              "      border-right-color: var(--fill-color);\n",
              "      border-bottom-color: var(--fill-color);\n",
              "    }\n",
              "    90% {\n",
              "      border-color: transparent;\n",
              "      border-bottom-color: var(--fill-color);\n",
              "    }\n",
              "  }\n",
              "</style>\n",
              "\n",
              "  <script>\n",
              "    async function quickchart(key) {\n",
              "      const quickchartButtonEl =\n",
              "        document.querySelector('#' + key + ' button');\n",
              "      quickchartButtonEl.disabled = true;  // To prevent multiple clicks.\n",
              "      quickchartButtonEl.classList.add('colab-df-spinner');\n",
              "      try {\n",
              "        const charts = await google.colab.kernel.invokeFunction(\n",
              "            'suggestCharts', [key], {});\n",
              "      } catch (error) {\n",
              "        console.error('Error during call to suggestCharts:', error);\n",
              "      }\n",
              "      quickchartButtonEl.classList.remove('colab-df-spinner');\n",
              "      quickchartButtonEl.classList.add('colab-df-quickchart-complete');\n",
              "    }\n",
              "    (() => {\n",
              "      let quickchartButtonEl =\n",
              "        document.querySelector('#df-e9af4fa6-e57e-451f-9282-7871abaffea8 button');\n",
              "      quickchartButtonEl.style.display =\n",
              "        google.colab.kernel.accessAllowed ? 'block' : 'none';\n",
              "    })();\n",
              "  </script>\n",
              "</div>\n",
              "\n",
              "    </div>\n",
              "  </div>\n"
            ],
            "application/vnd.google.colaboratory.intrinsic+json": {
              "type": "dataframe",
              "variable_name": "df_clean",
              "summary": "{\n  \"name\": \"df_clean\",\n  \"rows\": 49594,\n  \"fields\": [\n    {\n      \"column\": \"sentiment\",\n      \"properties\": {\n        \"dtype\": \"category\",\n        \"num_unique_values\": 2,\n        \"samples\": [\n          \"negative\",\n          \"positive\"\n        ],\n        \"semantic_type\": \"\",\n        \"description\": \"\"\n      }\n    },\n    {\n      \"column\": \"vi_review\",\n      \"properties\": {\n        \"dtype\": \"string\",\n        \"num_unique_values\": 49594,\n        \"samples\": [\n          \"m\\u1ed9t c\\u1ed5 \\u0111i\\u1ec3n tuy\\u1ec7t \\u0111\\u1ed1i ch\\u1ec9 \\u0111\\u1ea1o ho\\u00e0n h\\u1ea3o , di\\u1ec5n xu\\u1ea5t tuy\\u1ec7t v\\u1eddi . t\\u1eeb ng\\u1eef ng\\u1eafn g\\u1ecdn cho c\\u00f4ng vi\\u1ec7c tuy\\u1ec7t v\\u1eddi n\\u00e0y . b\\u1ed9 phim d\\u1ee9t kho\\u00e1t nh\\u1ea5t v\\u1ec1 c\\u1ea3nh s\\u00e1t mumbai . b\\u1ed9 phim n\\u00e0y \\u0111\\u00e3 v\\u01b0\\u1ee3t qua th\\u1eed th\\u00e1ch c\\u1ee7a th\\u1eddi gian . br br om puri \\u0111\\u00e3 th\\u1ec3 hi\\u1ec7n xu\\u1ea5t s\\u1eafc , smita patil c\\u0169ng kh\\u00f4ng k\\u00e9m c\\u1ea1nh . t\\u1ea5t c\\u1ea3 c\\u00e1c di\\u1ec5n vi\\u00ean \\u0111\\u00e3 c\\u1ed1 g\\u1eafng h\\u1ebft s\\u1ee9c v\\u00e0 b\\u1ed9 phim khi\\u1ebfn b\\u1ea1n h\\u1ed3i h\\u1ed9p \\u1edf m\\u1ecdi th\\u1eddi \\u0111i\\u1ec3m . b\\u1ed9 phim n\\u00e0y l\\u00e0m lay \\u0111\\u1ed9ng to\\u00e0n b\\u1ed9 con ng\\u01b0\\u1eddi b\\u1ea1n v\\u00e0 bu\\u1ed9c b\\u1ea1n ph\\u1ea3i suy ngh\\u0129 l\\u1ea1i v\\u1ec1 nhi\\u1ec1u v\\u1ea5n \\u0111\\u1ec1 m\\u00e0 x\\u00e3 h\\u1ed9i ch\\u00fang ta \\u0111ang ph\\u1ea3i \\u0111\\u1ed1i m\\u1eb7t . br br \\u0111\\u00e2y l\\u00e0 c\\u00e2u chuy\\u1ec7n v\\u1ec1 m\\u1ed9t c\\u1ea3nh s\\u00e1t om puri b\\u1eaft \\u0111\\u1ea7u s\\u1ef1 nghi\\u1ec7p c\\u1ee7a m\\u00ecnh nh\\u01b0 m\\u1ed9t ng\\u01b0\\u1eddi l\\u01b0\\u01a1ng thi\\u1ec7n nh\\u01b0ng cu\\u1ed1i c\\u00f9ng tho\\u00e1i h\\u00f3a th\\u00e0nh m\\u1ed9t k\\u1ebb gi\\u1ebft ng\\u01b0\\u1eddi . n\\u1ed7 l\\u1ef1c \\u0111\\u1ea7u ti\\u00ean \\u1edf bollywood nh\\u1eb1m v\\u00e0o h\\u1eadu tr\\u01b0\\u1eddng v\\u00e0 ph\\u01a1i b\\u00e0y s\\u1ef1 th\\u1eadt \\u0111au l\\u00f2ng v\\u1ec1 c\\u1ea3nh s\\u00e1t mumbai . xin ch\\u00fac m\\u1eebng nihalani br br sau b\\u1ed9 phim n\\u00e0y , h\\u00e0ng lo\\u1ea1t phim bollywood \\u0111\\u00e3 \\u0111\\u01b0\\u1ee3c ph\\u00e1t h\\u00e0nh ph\\u01a1i b\\u00e0y m\\u1ed1i quan h\\u1ec7 t\\u1ed9i ph\\u1ea1m ch\\u00ednh tr\\u1ecb gia c\\u1ea3nh s\\u00e1t . v\\u00ec v\\u1eady , b\\u1ed9 phim n\\u00e0y th\\u1ef1c s\\u1ef1 l\\u00e0 m\\u1ed9t ng\\u01b0\\u1eddi thi\\u1ebft l\\u1eadp xu h\\u01b0\\u1edbng . xu h\\u01b0\\u1edbng n\\u00e0y \\u0111\\u00e3 th\\u1ed1ng tr\\u1ecb n\\u1ec1n \\u0111i\\u1ec7n \\u1ea3nh hindi trong h\\u01a1n m\\u1ed9t th\\u1eadp k\\u1ef7 . br br b\\u1ed9 phim n\\u00e0y \\u0111\\u1ea1t doanh thu ph\\u00f2ng v\\u00e9 v\\u1eeba ph\\u1ea3i . br br m\\u1ed9t b\\u1ed9 phim kh\\u00f4ng th\\u1ec3 b\\u1ecf qua \\u0111\\u1ed1i v\\u1edbi nh\\u1eefng ng\\u01b0\\u1eddi h\\u00e2m m\\u1ed9 \\u0111i\\u1ec7n \\u1ea3nh s\\u00e0nh \\u0111i\\u1ec7u .\",\n          \"northfork l\\u00e0 \\u0111i\\u1ec1u kh\\u00f4ng \\u1ed5n v\\u1edbi phim \\u0111\\u1ed9c l\\u1eadp . \\u0111\\u1ed1i v\\u1edbi t\\u1ea5t c\\u1ea3 nh\\u1eefng l\\u1eddi b\\u00ecnh lu\\u1eadn c\\u1ee9ng r\\u1eafn c\\u1ee7a h\\u1ecd v\\u00e0 c\\u00e1c h\\u00e3ng phim t\\u1ea5n c\\u00f4ng c\\u00e1c ch\\u1ee7 \\u0111\\u1ec1 l\\u1edbn s\\u1ebd kh\\u00f4ng l\\u00e0m \\u0111\\u01b0\\u1ee3c , \\u0111\\u00e2y l\\u00e0 s\\u1ef1 hy sinh m\\u00e0 ch\\u00fang t\\u00f4i th\\u1ef1c hi\\u1ec7n . trong g\\u1ea7n hai ti\\u1ebfng \\u0111\\u1ed3ng h\\u1ed3 , t\\u00f4i ph\\u1ea3i ch\\u1ecbu s\\u1ef1 tra t\\u1ea5n v\\u00e0 \\u0111au \\u0111\\u1edbn c\\u1ee7a m\\u1ed9t b\\u1ed9 phim b\\u1eaft \\u0111\\u1ea7u b\\u1eb1ng vi\\u1ec7c lang thang nh\\u01b0 m\\u1ed9t ng\\u01b0\\u1eddi m\\u00f9 \\u1edf m\\u1ed9t n\\u01a1i m\\u1edbi v\\u00e0 k\\u1ebft th\\u00fac m\\u00e0 kh\\u00f4ng t\\u00ecm th\\u1ea5y b\\u1ea5t k\\u1ef3 v\\u00f9ng \\u0111\\u1ea5t m\\u1edbi n\\u00e0o v\\u00e0 ch\\u1ebft m\\u1ed9t c\\u00e1ch may m\\u1eafn . br br c\\u00f3 nh\\u1eefng c\\u00e2u chuy\\u1ec7n song song chi ti\\u1ebft \\u0111\\u00f3 l\\u00e0 m\\u1ed9t th\\u1ecb tr\\u1ea5n \\u0111ang h\\u1ea5p h\\u1ed1i v\\u00e0 m\\u1ed9t c\\u1eadu b\\u00e9 \\u0111ang h\\u1ea5p h\\u1ed1i . hai ng\\u01b0\\u1eddi \\u0111\\u00e0n \\u00f4ng m\\u1eb7c \\u0111\\u1ed3 \\u0111en m\\u1ed9t trong s\\u1ed1 h\\u1ecd l\\u00e0 james woods ph\\u1ea3i \\u00e9p bu\\u1ed9c nh\\u1eefng c\\u01b0 d\\u00e2n c\\u00f2n l\\u1ea1i c\\u1ee7a northfork r\\u1eddi \\u0111i tr\\u01b0\\u1edbc khi m\\u1ed9t con \\u0111\\u1eadp m\\u1edf ra v\\u00e0 l\\u00e0m ng\\u1eadp th\\u1ecb tr\\u1ea5n . c\\u00e2u chuy\\u1ec7n kh\\u00e1c k\\u1ec3 v\\u1ec1 m\\u1ed9t c\\u1eadu b\\u00e9 tr\\u1edf v\\u1ec1 v\\u1edbi v\\u1ecb linh m\\u1ee5c nick nolte \\u0111\\u00e3 trao c\\u1eadu cho cha m\\u1eb9 . anh \\u1ea5y s\\u1eafp ch\\u1ebft v\\u00e0 t\\u00f4i \\u0111o\\u00e1n l\\u00e0 \\u0111\\u00e3 \\u0111\\u01b0\\u1ee3c c\\u00e1c thi\\u00ean th\\u1ea7n \\u0111\\u1ebfn th\\u0103m . trong s\\u1ed1 \\u0111\\u00f3 c\\u00f3 anthony edwards v\\u1edbi c\\u1eb7p k\\u00ednh k\\u1ef3 qu\\u00e1i v\\u00e0 daryl hannah trong b\\u1ed9 trang ph\\u1ee5c k\\u1ef3 qu\\u00e1i khi\\u1ebfn t\\u00f4i nh\\u1edb \\u0111\\u1ebfn chi\\u1ebfc \\u00e1o c\\u01b0\\u1edbp bi\\u1ec3n t\\u1eeb seinfeld . br br m\\u1eb7c d\\u00f9 \\u0111\\u00e2y l\\u00e0 c\\u1ed1t truy\\u1ec7n , nh\\u01b0ng \\u0111\\u00f3 kh\\u00f4ng ph\\u1ea3i l\\u00e0 n\\u1ed9i dung c\\u1ee7a b\\u1ed9 phim . b\\u1ed9 phim kh\\u00f4ng n\\u00f3i v\\u1ec1 \\u0111i\\u1ec1u g\\u00ec . n\\u00f3 kh\\u00f4ng l\\u00e0m g\\u00ec , kh\\u00f4ng n\\u00f3i g\\u00ec , kh\\u00f4ng \\u0111i \\u0111\\u1ebfn \\u0111\\u00e2u v\\u00e0 kh\\u00f4ng c\\u00f3 g\\u00ec th\\u00fa v\\u1ecb \\u0111\\u1ec3 th\\u1ec3 hi\\u1ec7n . c\\u00f3 l\\u1ebd theo thi\\u1ebft k\\u1ebf , nhi\\u1ec1u kh\\u1ea3 n\\u0103ng l\\u00e0 h\\u1eadu qu\\u1ea3 c\\u1ee7a vi\\u1ec7c mu\\u1ed1n tr\\u1edf th\\u00e0nh david lynch t\\u1ef1 ph\\u1ee5 , si\\u00eau th\\u1ef1c ch\\u00fang t\\u00f4i l\\u00e0 m\\u1ed9t b\\u1ed9 phim ngh\\u1ec7 thu\\u1eadt quan tr\\u1ecdng m\\u00e0 b\\u1ea1n kh\\u00f4ng th\\u1ec3 th\\u1ea5y phong c\\u00e1ch ch\\u1ec9 \\u0111\\u1ea1o . to\\u00e0n b\\u1ed9 b\\u1ed9 phim \\u0111\\u01b0\\u1ee3c l\\u1ecdc qua m\\u1ed9t ph\\u00f4ng n\\u1ec1n x\\u00e1m x\\u1ecbt , t\\u00f4i cho r\\u1eb1ng ph\\u00f9 h\\u1ee3p v\\u1edbi m\\u1ed9t b\\u1ed9 phim v\\u1ec1 c\\u00e1i ch\\u1ebft . thay v\\u00e0o \\u0111\\u00f3 , n\\u00f3 ch\\u1ec9 khi\\u1ebfn b\\u1ed9 phim tr\\u1edf n\\u00ean kh\\u00f3 xem h\\u01a1n nhi\\u1ec1u . br br n\\u1ebfu b\\u1ea1n mu\\u1ed1n xem m\\u1ed9t b\\u1ed9 phim v\\u1ec1 nh\\u1eefng ng\\u01b0\\u1eddi \\u0111\\u00e0n \\u00f4ng m\\u1eb7c \\u0111\\u1ed3 \\u0111en , h\\u00e3y xem m\\u1ed9t trong hai phim men in black , kh\\u00f4ng qu\\u00e1 \\u1ea5n t\\u01b0\\u1ee3ng nh\\u01b0ng c\\u00f3 th\\u1ec3 so s\\u00e1nh v\\u1edbi northfork h\\u1ecd \\u0111\\u01b0\\u1ee3c n\\u00e2ng l\\u00ean tr\\u1ea1ng th\\u00e1i citizen kane . n\\u1ebfu b\\u1ea1n mu\\u1ed1n xem m\\u1ed9t b\\u1ed9 phim v\\u1ec1 c\\u1eadu b\\u00e9 s\\u1eafp ch\\u1ebft , h\\u00e3y xem lorenzos oil . n\\u1ebfu b\\u1ea1n mu\\u1ed1n xem m\\u1ed9t b\\u1ed9 phim c\\u00f3 s\\u1ef1 t\\u00e0n ph\\u00e1 c\\u1ee7a m\\u1ed9t th\\u1ecb tr\\u1ea5n d\\u01b0\\u1edbi n\\u01b0\\u1edbc , h\\u00e3y xem o brother , where art thou n\\u1ebfu b\\u1ea1n mu\\u1ed1n xem m\\u1ed9t b\\u1ed9 phim hay h\\u01a1n northfork , th\\u00ec c\\u00f3 h\\u00e0ng tr\\u0103m b\\u1ed9 phim . n\\u1ebfu b\\u1ea1n mu\\u1ed1n xem m\\u1ed9t b\\u1ed9 phim t\\u1ec7 h\\u01a1n , ch\\u1ec9 c\\u00f3 m\\u1ed9t s\\u1ed1 \\u00edt . tr\\u00ean\"\n        ],\n        \"semantic_type\": \"\",\n        \"description\": \"\"\n      }\n    }\n  ]\n}"
            }
          },
          "metadata": {},
          "execution_count": 27
        }
      ]
    },
    {
      "cell_type": "markdown",
      "source": [
        "### Lưu lại data vừa làm sạch"
      ],
      "metadata": {
        "id": "0ogmimJ6C79P"
      }
    },
    {
      "cell_type": "code",
      "source": [
        "df_clean.to_csv('data_cleaned.csv', index=False)"
      ],
      "metadata": {
        "id": "zELoG3-3DDzl"
      },
      "execution_count": 28,
      "outputs": []
    }
  ],
  "metadata": {
    "kernelspec": {
      "display_name": "usr",
      "language": "python",
      "name": "python3"
    },
    "language_info": {
      "name": "python",
      "version": "3.12.3"
    },
    "colab": {
      "provenance": []
    }
  },
  "nbformat": 4,
  "nbformat_minor": 0
}